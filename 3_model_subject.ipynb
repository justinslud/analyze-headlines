{
  "nbformat": 4,
  "nbformat_minor": 0,
  "metadata": {
    "colab": {
      "name": "3_predict_subject.ipynb",
      "provenance": [],
      "collapsed_sections": []
    },
    "kernelspec": {
      "name": "python3",
      "display_name": "Python 3"
    }
  },
  "cells": [
    {
      "cell_type": "code",
      "metadata": {
        "id": "04EyjlskiAiq"
      },
      "source": [
        "import numpy as np\n",
        "import pandas as pd\n",
        "import matplotlib.pyplot as plt\n",
        "%matplotlib inline\n",
        "import seaborn as sns\n",
        "import sklearn\n",
        "from sklearn.feature_extraction.text import TfidfVectorizer\n",
        "from sklearn.model_selection import train_test_split\n",
        "from sklearn.cluster import KMeans"
      ],
      "execution_count": 1,
      "outputs": []
    },
    {
      "cell_type": "code",
      "metadata": {
        "id": "kZgPvJEWjPuC",
        "colab": {
          "base_uri": "https://localhost:8080/"
        },
        "outputId": "d2712ab5-6467-4a52-c621-f1f780458bff"
      },
      "source": [
        "! git clone https://github.com/justinslud/scrape-wikipedia-current-events.git"
      ],
      "execution_count": 2,
      "outputs": [
        {
          "output_type": "stream",
          "text": [
            "Cloning into 'scrape-wikipedia-current-events'...\n",
            "remote: Enumerating objects: 48, done.\u001b[K\n",
            "remote: Counting objects: 100% (48/48), done.\u001b[K\n",
            "remote: Compressing objects: 100% (37/37), done.\u001b[K\n",
            "remote: Total 48 (delta 18), reused 34 (delta 9), pack-reused 0\u001b[K\n",
            "Unpacking objects: 100% (48/48), done.\n"
          ],
          "name": "stdout"
        }
      ]
    },
    {
      "cell_type": "code",
      "metadata": {
        "id": "onv-_juWjOZC"
      },
      "source": [
        "headlines = pd.read_csv('scrape-wikipedia-current-events/data/1995-2017clean.csv')"
      ],
      "execution_count": 4,
      "outputs": []
    },
    {
      "cell_type": "code",
      "metadata": {
        "id": "V_5VRq8rA6hv"
      },
      "source": [
        "X, y = headlines['text'], headlines['year']\n",
        "X_train, X_test, y_train, y_test = train_test_split(X, y, test_size=.2)"
      ],
      "execution_count": 5,
      "outputs": []
    },
    {
      "cell_type": "markdown",
      "metadata": {
        "id": "PPmlo01zjFNo"
      },
      "source": [
        "# Predict Year"
      ]
    },
    {
      "cell_type": "code",
      "metadata": {
        "id": "xPbrq2lfCr5U"
      },
      "source": [
        "from sklearn.linear_model import LogisticRegression\n",
        "from sklearn.pipeline import Pipeline, make_pipeline\n",
        "from sklearn.metrics import classification_report, confusion_matrix"
      ],
      "execution_count": 7,
      "outputs": []
    },
    {
      "cell_type": "code",
      "metadata": {
        "id": "eocWdcLEDCku"
      },
      "source": [
        "vectorizer = TfidfVectorizer(stop_words='english')\n",
        "logreg = LogisticRegression()"
      ],
      "execution_count": 8,
      "outputs": []
    },
    {
      "cell_type": "code",
      "metadata": {
        "id": "8cXCxi2pD7gM"
      },
      "source": [
        "p = make_pipeline(vectorizer, logreg)"
      ],
      "execution_count": 9,
      "outputs": []
    },
    {
      "cell_type": "code",
      "metadata": {
        "colab": {
          "base_uri": "https://localhost:8080/"
        },
        "id": "q4td8ZYVCj2O",
        "outputId": "0aa96ed1-0272-49e5-f168-972685436f04"
      },
      "source": [
        "p.fit(X_train, y_train)\n",
        "y_pred = p.predict(X_test)\n",
        "\n",
        "print(classification_report(y_test, y_pred))"
      ],
      "execution_count": 10,
      "outputs": [
        {
          "output_type": "stream",
          "text": [
            "/usr/local/lib/python3.6/dist-packages/sklearn/linear_model/_logistic.py:940: ConvergenceWarning: lbfgs failed to converge (status=1):\n",
            "STOP: TOTAL NO. of ITERATIONS REACHED LIMIT.\n",
            "\n",
            "Increase the number of iterations (max_iter) or scale the data as shown in:\n",
            "    https://scikit-learn.org/stable/modules/preprocessing.html\n",
            "Please also refer to the documentation for alternative solver options:\n",
            "    https://scikit-learn.org/stable/modules/linear_model.html#logistic-regression\n",
            "  extra_warning_msg=_LOGISTIC_SOLVER_CONVERGENCE_MSG)\n"
          ],
          "name": "stderr"
        },
        {
          "output_type": "stream",
          "text": [
            "              precision    recall  f1-score   support\n",
            "\n",
            "        1995       0.00      0.00      0.00        55\n",
            "        1996       0.00      0.00      0.00        68\n",
            "        1997       1.00      0.03      0.05        36\n",
            "        1998       0.00      0.00      0.00        29\n",
            "        1999       0.00      0.00      0.00        49\n",
            "        2000       1.00      0.02      0.04        45\n",
            "        2001       0.92      0.37      0.53        62\n",
            "        2002       1.00      0.07      0.13        85\n",
            "        2003       0.39      0.20      0.26       366\n",
            "        2004       0.44      0.31      0.37       665\n",
            "        2005       0.35      0.34      0.35       800\n",
            "        2006       0.43      0.25      0.31       676\n",
            "        2007       0.34      0.38      0.36       836\n",
            "        2008       0.47      0.36      0.41       634\n",
            "        2009       0.32      0.36      0.34       903\n",
            "        2010       0.31      0.67      0.42      1440\n",
            "        2011       0.55      0.47      0.51       763\n",
            "        2012       0.44      0.29      0.35       468\n",
            "        2013       0.62      0.21      0.32       470\n",
            "        2014       0.66      0.26      0.37       396\n",
            "        2015       0.46      0.44      0.45       818\n",
            "        2016       0.45      0.57      0.50      1150\n",
            "        2017       0.54      0.43      0.48       667\n",
            "\n",
            "    accuracy                           0.40     11481\n",
            "   macro avg       0.46      0.26      0.28     11481\n",
            "weighted avg       0.43      0.40      0.39     11481\n",
            "\n"
          ],
          "name": "stdout"
        },
        {
          "output_type": "stream",
          "text": [
            "/usr/local/lib/python3.6/dist-packages/sklearn/metrics/_classification.py:1272: UndefinedMetricWarning: Precision and F-score are ill-defined and being set to 0.0 in labels with no predicted samples. Use `zero_division` parameter to control this behavior.\n",
            "  _warn_prf(average, modifier, msg_start, len(result))\n"
          ],
          "name": "stderr"
        }
      ]
    },
    {
      "cell_type": "code",
      "metadata": {
        "id": "mXvklh1kHQjA"
      },
      "source": [
        "confusion = confusion_matrix(y_test, y_pred)"
      ],
      "execution_count": 11,
      "outputs": []
    },
    {
      "cell_type": "code",
      "metadata": {
        "id": "_adWlCbdH_rE"
      },
      "source": [
        "years=list(range(1995, 2018))"
      ],
      "execution_count": 12,
      "outputs": []
    },
    {
      "cell_type": "code",
      "metadata": {
        "colab": {
          "base_uri": "https://localhost:8080/",
          "height": 790
        },
        "id": "tSNBoQSqH6cO",
        "outputId": "6f0efbda-5210-4d52-df07-cffaf73d5502"
      },
      "source": [
        "pd.DataFrame(confusion, index=years, columns=years)"
      ],
      "execution_count": 13,
      "outputs": [
        {
          "output_type": "execute_result",
          "data": {
            "text/html": [
              "<div>\n",
              "<style scoped>\n",
              "    .dataframe tbody tr th:only-of-type {\n",
              "        vertical-align: middle;\n",
              "    }\n",
              "\n",
              "    .dataframe tbody tr th {\n",
              "        vertical-align: top;\n",
              "    }\n",
              "\n",
              "    .dataframe thead th {\n",
              "        text-align: right;\n",
              "    }\n",
              "</style>\n",
              "<table border=\"1\" class=\"dataframe\">\n",
              "  <thead>\n",
              "    <tr style=\"text-align: right;\">\n",
              "      <th></th>\n",
              "      <th>1995</th>\n",
              "      <th>1996</th>\n",
              "      <th>1997</th>\n",
              "      <th>1998</th>\n",
              "      <th>1999</th>\n",
              "      <th>2000</th>\n",
              "      <th>2001</th>\n",
              "      <th>2002</th>\n",
              "      <th>2003</th>\n",
              "      <th>2004</th>\n",
              "      <th>2005</th>\n",
              "      <th>2006</th>\n",
              "      <th>2007</th>\n",
              "      <th>2008</th>\n",
              "      <th>2009</th>\n",
              "      <th>2010</th>\n",
              "      <th>2011</th>\n",
              "      <th>2012</th>\n",
              "      <th>2013</th>\n",
              "      <th>2014</th>\n",
              "      <th>2015</th>\n",
              "      <th>2016</th>\n",
              "      <th>2017</th>\n",
              "    </tr>\n",
              "  </thead>\n",
              "  <tbody>\n",
              "    <tr>\n",
              "      <th>1995</th>\n",
              "      <td>0</td>\n",
              "      <td>0</td>\n",
              "      <td>0</td>\n",
              "      <td>0</td>\n",
              "      <td>0</td>\n",
              "      <td>0</td>\n",
              "      <td>0</td>\n",
              "      <td>0</td>\n",
              "      <td>1</td>\n",
              "      <td>1</td>\n",
              "      <td>4</td>\n",
              "      <td>0</td>\n",
              "      <td>3</td>\n",
              "      <td>1</td>\n",
              "      <td>16</td>\n",
              "      <td>15</td>\n",
              "      <td>2</td>\n",
              "      <td>2</td>\n",
              "      <td>0</td>\n",
              "      <td>0</td>\n",
              "      <td>3</td>\n",
              "      <td>5</td>\n",
              "      <td>2</td>\n",
              "    </tr>\n",
              "    <tr>\n",
              "      <th>1996</th>\n",
              "      <td>0</td>\n",
              "      <td>0</td>\n",
              "      <td>0</td>\n",
              "      <td>0</td>\n",
              "      <td>0</td>\n",
              "      <td>0</td>\n",
              "      <td>0</td>\n",
              "      <td>0</td>\n",
              "      <td>2</td>\n",
              "      <td>2</td>\n",
              "      <td>7</td>\n",
              "      <td>1</td>\n",
              "      <td>7</td>\n",
              "      <td>3</td>\n",
              "      <td>10</td>\n",
              "      <td>28</td>\n",
              "      <td>0</td>\n",
              "      <td>2</td>\n",
              "      <td>1</td>\n",
              "      <td>0</td>\n",
              "      <td>1</td>\n",
              "      <td>3</td>\n",
              "      <td>1</td>\n",
              "    </tr>\n",
              "    <tr>\n",
              "      <th>1997</th>\n",
              "      <td>0</td>\n",
              "      <td>0</td>\n",
              "      <td>1</td>\n",
              "      <td>0</td>\n",
              "      <td>0</td>\n",
              "      <td>0</td>\n",
              "      <td>0</td>\n",
              "      <td>0</td>\n",
              "      <td>1</td>\n",
              "      <td>2</td>\n",
              "      <td>3</td>\n",
              "      <td>0</td>\n",
              "      <td>5</td>\n",
              "      <td>0</td>\n",
              "      <td>10</td>\n",
              "      <td>11</td>\n",
              "      <td>2</td>\n",
              "      <td>0</td>\n",
              "      <td>0</td>\n",
              "      <td>0</td>\n",
              "      <td>1</td>\n",
              "      <td>0</td>\n",
              "      <td>0</td>\n",
              "    </tr>\n",
              "    <tr>\n",
              "      <th>1998</th>\n",
              "      <td>0</td>\n",
              "      <td>0</td>\n",
              "      <td>0</td>\n",
              "      <td>0</td>\n",
              "      <td>0</td>\n",
              "      <td>0</td>\n",
              "      <td>0</td>\n",
              "      <td>0</td>\n",
              "      <td>2</td>\n",
              "      <td>1</td>\n",
              "      <td>3</td>\n",
              "      <td>3</td>\n",
              "      <td>3</td>\n",
              "      <td>0</td>\n",
              "      <td>6</td>\n",
              "      <td>8</td>\n",
              "      <td>1</td>\n",
              "      <td>0</td>\n",
              "      <td>0</td>\n",
              "      <td>0</td>\n",
              "      <td>0</td>\n",
              "      <td>2</td>\n",
              "      <td>0</td>\n",
              "    </tr>\n",
              "    <tr>\n",
              "      <th>1999</th>\n",
              "      <td>0</td>\n",
              "      <td>0</td>\n",
              "      <td>0</td>\n",
              "      <td>0</td>\n",
              "      <td>0</td>\n",
              "      <td>0</td>\n",
              "      <td>0</td>\n",
              "      <td>0</td>\n",
              "      <td>0</td>\n",
              "      <td>0</td>\n",
              "      <td>4</td>\n",
              "      <td>1</td>\n",
              "      <td>5</td>\n",
              "      <td>3</td>\n",
              "      <td>5</td>\n",
              "      <td>20</td>\n",
              "      <td>5</td>\n",
              "      <td>1</td>\n",
              "      <td>0</td>\n",
              "      <td>1</td>\n",
              "      <td>0</td>\n",
              "      <td>3</td>\n",
              "      <td>1</td>\n",
              "    </tr>\n",
              "    <tr>\n",
              "      <th>2000</th>\n",
              "      <td>0</td>\n",
              "      <td>0</td>\n",
              "      <td>0</td>\n",
              "      <td>0</td>\n",
              "      <td>0</td>\n",
              "      <td>1</td>\n",
              "      <td>0</td>\n",
              "      <td>0</td>\n",
              "      <td>0</td>\n",
              "      <td>4</td>\n",
              "      <td>1</td>\n",
              "      <td>1</td>\n",
              "      <td>2</td>\n",
              "      <td>0</td>\n",
              "      <td>6</td>\n",
              "      <td>18</td>\n",
              "      <td>2</td>\n",
              "      <td>2</td>\n",
              "      <td>0</td>\n",
              "      <td>0</td>\n",
              "      <td>2</td>\n",
              "      <td>4</td>\n",
              "      <td>2</td>\n",
              "    </tr>\n",
              "    <tr>\n",
              "      <th>2001</th>\n",
              "      <td>0</td>\n",
              "      <td>0</td>\n",
              "      <td>0</td>\n",
              "      <td>0</td>\n",
              "      <td>0</td>\n",
              "      <td>0</td>\n",
              "      <td>23</td>\n",
              "      <td>0</td>\n",
              "      <td>3</td>\n",
              "      <td>2</td>\n",
              "      <td>8</td>\n",
              "      <td>0</td>\n",
              "      <td>4</td>\n",
              "      <td>3</td>\n",
              "      <td>4</td>\n",
              "      <td>10</td>\n",
              "      <td>1</td>\n",
              "      <td>1</td>\n",
              "      <td>0</td>\n",
              "      <td>0</td>\n",
              "      <td>1</td>\n",
              "      <td>1</td>\n",
              "      <td>1</td>\n",
              "    </tr>\n",
              "    <tr>\n",
              "      <th>2002</th>\n",
              "      <td>0</td>\n",
              "      <td>0</td>\n",
              "      <td>0</td>\n",
              "      <td>0</td>\n",
              "      <td>0</td>\n",
              "      <td>0</td>\n",
              "      <td>0</td>\n",
              "      <td>6</td>\n",
              "      <td>4</td>\n",
              "      <td>7</td>\n",
              "      <td>11</td>\n",
              "      <td>4</td>\n",
              "      <td>5</td>\n",
              "      <td>3</td>\n",
              "      <td>7</td>\n",
              "      <td>23</td>\n",
              "      <td>1</td>\n",
              "      <td>1</td>\n",
              "      <td>1</td>\n",
              "      <td>0</td>\n",
              "      <td>2</td>\n",
              "      <td>8</td>\n",
              "      <td>2</td>\n",
              "    </tr>\n",
              "    <tr>\n",
              "      <th>2003</th>\n",
              "      <td>0</td>\n",
              "      <td>0</td>\n",
              "      <td>0</td>\n",
              "      <td>0</td>\n",
              "      <td>0</td>\n",
              "      <td>0</td>\n",
              "      <td>0</td>\n",
              "      <td>0</td>\n",
              "      <td>73</td>\n",
              "      <td>38</td>\n",
              "      <td>34</td>\n",
              "      <td>12</td>\n",
              "      <td>22</td>\n",
              "      <td>9</td>\n",
              "      <td>22</td>\n",
              "      <td>90</td>\n",
              "      <td>4</td>\n",
              "      <td>8</td>\n",
              "      <td>0</td>\n",
              "      <td>0</td>\n",
              "      <td>10</td>\n",
              "      <td>32</td>\n",
              "      <td>12</td>\n",
              "    </tr>\n",
              "    <tr>\n",
              "      <th>2004</th>\n",
              "      <td>0</td>\n",
              "      <td>0</td>\n",
              "      <td>0</td>\n",
              "      <td>0</td>\n",
              "      <td>0</td>\n",
              "      <td>0</td>\n",
              "      <td>0</td>\n",
              "      <td>0</td>\n",
              "      <td>35</td>\n",
              "      <td>208</td>\n",
              "      <td>91</td>\n",
              "      <td>18</td>\n",
              "      <td>39</td>\n",
              "      <td>12</td>\n",
              "      <td>36</td>\n",
              "      <td>131</td>\n",
              "      <td>16</td>\n",
              "      <td>5</td>\n",
              "      <td>4</td>\n",
              "      <td>0</td>\n",
              "      <td>19</td>\n",
              "      <td>40</td>\n",
              "      <td>11</td>\n",
              "    </tr>\n",
              "    <tr>\n",
              "      <th>2005</th>\n",
              "      <td>0</td>\n",
              "      <td>0</td>\n",
              "      <td>0</td>\n",
              "      <td>0</td>\n",
              "      <td>0</td>\n",
              "      <td>0</td>\n",
              "      <td>0</td>\n",
              "      <td>0</td>\n",
              "      <td>16</td>\n",
              "      <td>44</td>\n",
              "      <td>272</td>\n",
              "      <td>33</td>\n",
              "      <td>60</td>\n",
              "      <td>22</td>\n",
              "      <td>57</td>\n",
              "      <td>192</td>\n",
              "      <td>22</td>\n",
              "      <td>3</td>\n",
              "      <td>2</td>\n",
              "      <td>1</td>\n",
              "      <td>21</td>\n",
              "      <td>44</td>\n",
              "      <td>11</td>\n",
              "    </tr>\n",
              "    <tr>\n",
              "      <th>2006</th>\n",
              "      <td>0</td>\n",
              "      <td>0</td>\n",
              "      <td>0</td>\n",
              "      <td>0</td>\n",
              "      <td>0</td>\n",
              "      <td>0</td>\n",
              "      <td>0</td>\n",
              "      <td>0</td>\n",
              "      <td>13</td>\n",
              "      <td>32</td>\n",
              "      <td>79</td>\n",
              "      <td>168</td>\n",
              "      <td>79</td>\n",
              "      <td>11</td>\n",
              "      <td>41</td>\n",
              "      <td>160</td>\n",
              "      <td>16</td>\n",
              "      <td>3</td>\n",
              "      <td>1</td>\n",
              "      <td>1</td>\n",
              "      <td>24</td>\n",
              "      <td>38</td>\n",
              "      <td>10</td>\n",
              "    </tr>\n",
              "    <tr>\n",
              "      <th>2007</th>\n",
              "      <td>0</td>\n",
              "      <td>0</td>\n",
              "      <td>0</td>\n",
              "      <td>0</td>\n",
              "      <td>0</td>\n",
              "      <td>0</td>\n",
              "      <td>0</td>\n",
              "      <td>0</td>\n",
              "      <td>13</td>\n",
              "      <td>21</td>\n",
              "      <td>46</td>\n",
              "      <td>45</td>\n",
              "      <td>314</td>\n",
              "      <td>41</td>\n",
              "      <td>71</td>\n",
              "      <td>181</td>\n",
              "      <td>17</td>\n",
              "      <td>7</td>\n",
              "      <td>2</td>\n",
              "      <td>1</td>\n",
              "      <td>14</td>\n",
              "      <td>47</td>\n",
              "      <td>16</td>\n",
              "    </tr>\n",
              "    <tr>\n",
              "      <th>2008</th>\n",
              "      <td>0</td>\n",
              "      <td>0</td>\n",
              "      <td>0</td>\n",
              "      <td>0</td>\n",
              "      <td>0</td>\n",
              "      <td>0</td>\n",
              "      <td>1</td>\n",
              "      <td>0</td>\n",
              "      <td>2</td>\n",
              "      <td>13</td>\n",
              "      <td>20</td>\n",
              "      <td>19</td>\n",
              "      <td>80</td>\n",
              "      <td>228</td>\n",
              "      <td>70</td>\n",
              "      <td>110</td>\n",
              "      <td>16</td>\n",
              "      <td>10</td>\n",
              "      <td>5</td>\n",
              "      <td>1</td>\n",
              "      <td>9</td>\n",
              "      <td>35</td>\n",
              "      <td>15</td>\n",
              "    </tr>\n",
              "    <tr>\n",
              "      <th>2009</th>\n",
              "      <td>0</td>\n",
              "      <td>0</td>\n",
              "      <td>0</td>\n",
              "      <td>0</td>\n",
              "      <td>0</td>\n",
              "      <td>0</td>\n",
              "      <td>0</td>\n",
              "      <td>0</td>\n",
              "      <td>12</td>\n",
              "      <td>12</td>\n",
              "      <td>26</td>\n",
              "      <td>15</td>\n",
              "      <td>48</td>\n",
              "      <td>38</td>\n",
              "      <td>328</td>\n",
              "      <td>308</td>\n",
              "      <td>19</td>\n",
              "      <td>5</td>\n",
              "      <td>2</td>\n",
              "      <td>13</td>\n",
              "      <td>15</td>\n",
              "      <td>47</td>\n",
              "      <td>15</td>\n",
              "    </tr>\n",
              "    <tr>\n",
              "      <th>2010</th>\n",
              "      <td>0</td>\n",
              "      <td>0</td>\n",
              "      <td>0</td>\n",
              "      <td>0</td>\n",
              "      <td>0</td>\n",
              "      <td>0</td>\n",
              "      <td>0</td>\n",
              "      <td>0</td>\n",
              "      <td>7</td>\n",
              "      <td>14</td>\n",
              "      <td>46</td>\n",
              "      <td>23</td>\n",
              "      <td>69</td>\n",
              "      <td>25</td>\n",
              "      <td>108</td>\n",
              "      <td>968</td>\n",
              "      <td>46</td>\n",
              "      <td>6</td>\n",
              "      <td>4</td>\n",
              "      <td>1</td>\n",
              "      <td>33</td>\n",
              "      <td>75</td>\n",
              "      <td>15</td>\n",
              "    </tr>\n",
              "    <tr>\n",
              "      <th>2011</th>\n",
              "      <td>0</td>\n",
              "      <td>0</td>\n",
              "      <td>0</td>\n",
              "      <td>0</td>\n",
              "      <td>0</td>\n",
              "      <td>0</td>\n",
              "      <td>0</td>\n",
              "      <td>0</td>\n",
              "      <td>1</td>\n",
              "      <td>4</td>\n",
              "      <td>15</td>\n",
              "      <td>6</td>\n",
              "      <td>26</td>\n",
              "      <td>15</td>\n",
              "      <td>45</td>\n",
              "      <td>186</td>\n",
              "      <td>359</td>\n",
              "      <td>26</td>\n",
              "      <td>5</td>\n",
              "      <td>3</td>\n",
              "      <td>22</td>\n",
              "      <td>41</td>\n",
              "      <td>9</td>\n",
              "    </tr>\n",
              "    <tr>\n",
              "      <th>2012</th>\n",
              "      <td>0</td>\n",
              "      <td>0</td>\n",
              "      <td>0</td>\n",
              "      <td>0</td>\n",
              "      <td>0</td>\n",
              "      <td>0</td>\n",
              "      <td>0</td>\n",
              "      <td>0</td>\n",
              "      <td>0</td>\n",
              "      <td>12</td>\n",
              "      <td>13</td>\n",
              "      <td>7</td>\n",
              "      <td>17</td>\n",
              "      <td>9</td>\n",
              "      <td>33</td>\n",
              "      <td>110</td>\n",
              "      <td>39</td>\n",
              "      <td>136</td>\n",
              "      <td>9</td>\n",
              "      <td>4</td>\n",
              "      <td>22</td>\n",
              "      <td>44</td>\n",
              "      <td>13</td>\n",
              "    </tr>\n",
              "    <tr>\n",
              "      <th>2013</th>\n",
              "      <td>0</td>\n",
              "      <td>0</td>\n",
              "      <td>0</td>\n",
              "      <td>0</td>\n",
              "      <td>0</td>\n",
              "      <td>0</td>\n",
              "      <td>0</td>\n",
              "      <td>0</td>\n",
              "      <td>1</td>\n",
              "      <td>16</td>\n",
              "      <td>15</td>\n",
              "      <td>9</td>\n",
              "      <td>34</td>\n",
              "      <td>10</td>\n",
              "      <td>27</td>\n",
              "      <td>102</td>\n",
              "      <td>13</td>\n",
              "      <td>46</td>\n",
              "      <td>100</td>\n",
              "      <td>6</td>\n",
              "      <td>35</td>\n",
              "      <td>40</td>\n",
              "      <td>16</td>\n",
              "    </tr>\n",
              "    <tr>\n",
              "      <th>2014</th>\n",
              "      <td>0</td>\n",
              "      <td>0</td>\n",
              "      <td>0</td>\n",
              "      <td>0</td>\n",
              "      <td>0</td>\n",
              "      <td>0</td>\n",
              "      <td>0</td>\n",
              "      <td>0</td>\n",
              "      <td>2</td>\n",
              "      <td>4</td>\n",
              "      <td>7</td>\n",
              "      <td>6</td>\n",
              "      <td>19</td>\n",
              "      <td>15</td>\n",
              "      <td>19</td>\n",
              "      <td>82</td>\n",
              "      <td>22</td>\n",
              "      <td>7</td>\n",
              "      <td>8</td>\n",
              "      <td>101</td>\n",
              "      <td>43</td>\n",
              "      <td>50</td>\n",
              "      <td>11</td>\n",
              "    </tr>\n",
              "    <tr>\n",
              "      <th>2015</th>\n",
              "      <td>0</td>\n",
              "      <td>0</td>\n",
              "      <td>0</td>\n",
              "      <td>0</td>\n",
              "      <td>0</td>\n",
              "      <td>0</td>\n",
              "      <td>1</td>\n",
              "      <td>0</td>\n",
              "      <td>1</td>\n",
              "      <td>11</td>\n",
              "      <td>24</td>\n",
              "      <td>7</td>\n",
              "      <td>19</td>\n",
              "      <td>10</td>\n",
              "      <td>33</td>\n",
              "      <td>132</td>\n",
              "      <td>23</td>\n",
              "      <td>13</td>\n",
              "      <td>6</td>\n",
              "      <td>11</td>\n",
              "      <td>360</td>\n",
              "      <td>139</td>\n",
              "      <td>28</td>\n",
              "    </tr>\n",
              "    <tr>\n",
              "      <th>2016</th>\n",
              "      <td>0</td>\n",
              "      <td>0</td>\n",
              "      <td>0</td>\n",
              "      <td>0</td>\n",
              "      <td>0</td>\n",
              "      <td>0</td>\n",
              "      <td>0</td>\n",
              "      <td>0</td>\n",
              "      <td>0</td>\n",
              "      <td>10</td>\n",
              "      <td>23</td>\n",
              "      <td>12</td>\n",
              "      <td>36</td>\n",
              "      <td>16</td>\n",
              "      <td>44</td>\n",
              "      <td>145</td>\n",
              "      <td>20</td>\n",
              "      <td>14</td>\n",
              "      <td>5</td>\n",
              "      <td>7</td>\n",
              "      <td>102</td>\n",
              "      <td>661</td>\n",
              "      <td>55</td>\n",
              "    </tr>\n",
              "    <tr>\n",
              "      <th>2017</th>\n",
              "      <td>0</td>\n",
              "      <td>0</td>\n",
              "      <td>0</td>\n",
              "      <td>0</td>\n",
              "      <td>0</td>\n",
              "      <td>0</td>\n",
              "      <td>0</td>\n",
              "      <td>0</td>\n",
              "      <td>0</td>\n",
              "      <td>10</td>\n",
              "      <td>18</td>\n",
              "      <td>5</td>\n",
              "      <td>23</td>\n",
              "      <td>11</td>\n",
              "      <td>25</td>\n",
              "      <td>94</td>\n",
              "      <td>12</td>\n",
              "      <td>8</td>\n",
              "      <td>5</td>\n",
              "      <td>3</td>\n",
              "      <td>42</td>\n",
              "      <td>124</td>\n",
              "      <td>287</td>\n",
              "    </tr>\n",
              "  </tbody>\n",
              "</table>\n",
              "</div>"
            ],
            "text/plain": [
              "      1995  1996  1997  1998  1999  2000  ...  2012  2013  2014  2015  2016  2017\n",
              "1995     0     0     0     0     0     0  ...     2     0     0     3     5     2\n",
              "1996     0     0     0     0     0     0  ...     2     1     0     1     3     1\n",
              "1997     0     0     1     0     0     0  ...     0     0     0     1     0     0\n",
              "1998     0     0     0     0     0     0  ...     0     0     0     0     2     0\n",
              "1999     0     0     0     0     0     0  ...     1     0     1     0     3     1\n",
              "2000     0     0     0     0     0     1  ...     2     0     0     2     4     2\n",
              "2001     0     0     0     0     0     0  ...     1     0     0     1     1     1\n",
              "2002     0     0     0     0     0     0  ...     1     1     0     2     8     2\n",
              "2003     0     0     0     0     0     0  ...     8     0     0    10    32    12\n",
              "2004     0     0     0     0     0     0  ...     5     4     0    19    40    11\n",
              "2005     0     0     0     0     0     0  ...     3     2     1    21    44    11\n",
              "2006     0     0     0     0     0     0  ...     3     1     1    24    38    10\n",
              "2007     0     0     0     0     0     0  ...     7     2     1    14    47    16\n",
              "2008     0     0     0     0     0     0  ...    10     5     1     9    35    15\n",
              "2009     0     0     0     0     0     0  ...     5     2    13    15    47    15\n",
              "2010     0     0     0     0     0     0  ...     6     4     1    33    75    15\n",
              "2011     0     0     0     0     0     0  ...    26     5     3    22    41     9\n",
              "2012     0     0     0     0     0     0  ...   136     9     4    22    44    13\n",
              "2013     0     0     0     0     0     0  ...    46   100     6    35    40    16\n",
              "2014     0     0     0     0     0     0  ...     7     8   101    43    50    11\n",
              "2015     0     0     0     0     0     0  ...    13     6    11   360   139    28\n",
              "2016     0     0     0     0     0     0  ...    14     5     7   102   661    55\n",
              "2017     0     0     0     0     0     0  ...     8     5     3    42   124   287\n",
              "\n",
              "[23 rows x 23 columns]"
            ]
          },
          "metadata": {
            "tags": []
          },
          "execution_count": 13
        }
      ]
    },
    {
      "cell_type": "code",
      "metadata": {
        "colab": {
          "base_uri": "https://localhost:8080/",
          "height": 289
        },
        "id": "EM1D5S86HYoR",
        "outputId": "755ee511-7c15-4d0b-830c-2db307a58ea8"
      },
      "source": [
        "sns.heatmap(confusion/800)"
      ],
      "execution_count": 14,
      "outputs": [
        {
          "output_type": "execute_result",
          "data": {
            "text/plain": [
              "<matplotlib.axes._subplots.AxesSubplot at 0x7f9f03bf40f0>"
            ]
          },
          "metadata": {
            "tags": []
          },
          "execution_count": 14
        },
        {
          "output_type": "display_data",
          "data": {
            "image/png": "[encoded data removed]",
            "text/plain": [
              "<Figure size 432x288 with 2 Axes>"
            ]
          },
          "metadata": {
            "tags": [],
            "needs_background": "light"
          }
        }
      ]
    },
    {
      "cell_type": "code",
      "metadata": {
        "colab": {
          "base_uri": "https://localhost:8080/"
        },
        "id": "1Pa8I5iiCht6",
        "outputId": "6585a70a-3126-43dc-a663-422237e379b0"
      },
      "source": [
        "report = classification_report(y_test, y_pred, output_dict=True)"
      ],
      "execution_count": 15,
      "outputs": [
        {
          "output_type": "stream",
          "text": [
            "/usr/local/lib/python3.6/dist-packages/sklearn/metrics/_classification.py:1272: UndefinedMetricWarning: Precision and F-score are ill-defined and being set to 0.0 in labels with no predicted samples. Use `zero_division` parameter to control this behavior.\n",
            "  _warn_prf(average, modifier, msg_start, len(result))\n"
          ],
          "name": "stderr"
        }
      ]
    },
    {
      "cell_type": "code",
      "metadata": {
        "id": "jQIGY_rEGY9e"
      },
      "source": [
        "x = list(report.keys())[:-3]\n",
        "y = [value['precision'] for key, value in list(report.items())[:-3]]"
      ],
      "execution_count": 16,
      "outputs": []
    },
    {
      "cell_type": "code",
      "metadata": {
        "colab": {
          "base_uri": "https://localhost:8080/",
          "height": 281
        },
        "id": "tfxGqxtFF9Sn",
        "outputId": "2c0134cd-7a6a-462f-bc17-e56e29fc60e7"
      },
      "source": [
        "plt.bar(x, y, color='k')\n",
        "plt.xticks(rotation=90)\n",
        "plt.show()"
      ],
      "execution_count": 22,
      "outputs": [
        {
          "output_type": "display_data",
          "data": {
            "image/png": "[encoded data removed]",
            "text/plain": [
              "<Figure size 432x288 with 1 Axes>"
            ]
          },
          "metadata": {
            "tags": [],
            "needs_background": "light"
          }
        }
      ]
    },
    {
      "cell_type": "code",
      "metadata": {
        "colab": {
          "base_uri": "https://localhost:8080/"
        },
        "id": "1QWGztznFIXw",
        "outputId": "31d741ce-03c9-4762-d1c4-6032eabda5a4"
      },
      "source": [
        "list(np.where(y_pred == 2011)[0][:5])"
      ],
      "execution_count": 27,
      "outputs": [
        {
          "output_type": "execute_result",
          "data": {
            "text/plain": [
              "[14, 43, 59, 70, 81]"
            ]
          },
          "metadata": {
            "tags": []
          },
          "execution_count": 27
        }
      ]
    },
    {
      "cell_type": "code",
      "metadata": {
        "colab": {
          "base_uri": "https://localhost:8080/"
        },
        "id": "rLsffiXIFKxl",
        "outputId": "1605a573-70f9-4706-b804-0dda5bad693d"
      },
      "source": [
        "X[_].values"
      ],
      "execution_count": 28,
      "outputs": [
        {
          "output_type": "execute_result",
          "data": {
            "text/plain": [
              "array(['The flood in Germany turns out to be less severe than expected in the last few days. Exception is Wertheim am Main, where a 100-year-high is expected.',\n",
              "       'The Indian government had to shamefully withdraw its case against Iftikhar Gilani to prevent itself from a rather piquant situation where two of its ministries would have given contradictory opinions. Gilani had been arrested under the Official Secrets Act 1923.',\n",
              "       'A mass mobilization pulls together global protests against the Iraq war in cities around the world, including Tokyo, Moscow, Paris, London, Montreal, Ottawa, Toronto, Cologne, Bonn, Gothenburg, Istanbul and Cairo. NION and ANSWER hold protests in Washington, D.C. and San Francisco, California.',\n",
              "       \"Elections for the House of Representatives, the lower house of parliament of the Netherlands. The Dutch Labour Party wins, but Christian Democratic Appeal (CDA) remains the largest party in parliament. Pim Fortuyn List loses. CDA and People's Party for Freedom and Democracy do not get a majority.\",\n",
              "       'The New Democratic Party in Canada picks Toronto city councillor Jack Layton as its new leader, replacing Alexa McDonough, at its convention in Toronto. Layton wins on the first ballot, beating veteran MP Bill Blaikie.'],\n",
              "      dtype=object)"
            ]
          },
          "metadata": {
            "tags": []
          },
          "execution_count": 28
        }
      ]
    },
    {
      "cell_type": "markdown",
      "metadata": {
        "id": "1idbhB1NHiBp"
      },
      "source": [
        "# Predict Subject"
      ]
    },
    {
      "cell_type": "code",
      "metadata": {
        "colab": {
          "base_uri": "https://localhost:8080/"
        },
        "id": "Tb4mQkLvHhmX",
        "outputId": "75516b63-2726-4273-f330-db6f51b7fc71"
      },
      "source": [
        "headlines['subject'].value_counts()[:9]"
      ],
      "execution_count": 29,
      "outputs": [
        {
          "output_type": "execute_result",
          "data": {
            "text/plain": [
              "armed conflicts            8064\n",
              "politics                   4119\n",
              "disasters                  3599\n",
              "international relations    3037\n",
              "law                        2861\n",
              "sports                     1681\n",
              "business                   1562\n",
              "art and culture            1200\n",
              "science                     856\n",
              "Name: subject, dtype: int64"
            ]
          },
          "metadata": {
            "tags": []
          },
          "execution_count": 29
        }
      ]
    },
    {
      "cell_type": "code",
      "metadata": {
        "id": "L7slRvcaIth1"
      },
      "source": [
        "top_subjects = headlines['subject'].value_counts()[:9].index"
      ],
      "execution_count": 30,
      "outputs": []
    },
    {
      "cell_type": "code",
      "metadata": {
        "colab": {
          "base_uri": "https://localhost:8080/"
        },
        "id": "LuBm5ktlI6p4",
        "outputId": "13605048-1554-49d5-adbb-2517ef4614ed"
      },
      "source": [
        "top_subjects"
      ],
      "execution_count": 31,
      "outputs": [
        {
          "output_type": "execute_result",
          "data": {
            "text/plain": [
              "Index(['armed conflicts', 'politics', 'disasters', 'international relations',\n",
              "       'law', 'sports', 'business', 'art and culture', 'science'],\n",
              "      dtype='object')"
            ]
          },
          "metadata": {
            "tags": []
          },
          "execution_count": 31
        }
      ]
    },
    {
      "cell_type": "code",
      "metadata": {
        "id": "Ud-ml4nGInZz"
      },
      "source": [
        "top_subjects_headlines = headlines[headlines.subject.isin(top_subjects)]\n",
        "X, y = top_subjects_headlines['text'], top_subjects_headlines['subject']"
      ],
      "execution_count": 32,
      "outputs": []
    },
    {
      "cell_type": "code",
      "metadata": {
        "id": "PEZ22u9bOnFI"
      },
      "source": [
        "def stratified_sample(df, col, groups, min):\n",
        "    dfs = []\n",
        "\n",
        "    for group in groups:\n",
        "        dfs.append(df[df[col] == group].sample(min))\n",
        "\n",
        "    return pd.concat(dfs)"
      ],
      "execution_count": 33,
      "outputs": []
    },
    {
      "cell_type": "code",
      "metadata": {
        "colab": {
          "base_uri": "https://localhost:8080/"
        },
        "id": "77q44QBMPQWH",
        "outputId": "85862a46-8eb7-4347-a4c9-67cf436ece76"
      },
      "source": [
        "stratified_subject= stratified_sample(headlines, 'subject', top_subjects, 800)\n",
        "stratified_subject['subject'].value_counts()"
      ],
      "execution_count": 34,
      "outputs": [
        {
          "output_type": "execute_result",
          "data": {
            "text/plain": [
              "disasters                  800\n",
              "politics                   800\n",
              "business                   800\n",
              "law                        800\n",
              "international relations    800\n",
              "armed conflicts            800\n",
              "sports                     800\n",
              "art and culture            800\n",
              "science                    800\n",
              "Name: subject, dtype: int64"
            ]
          },
          "metadata": {
            "tags": []
          },
          "execution_count": 34
        }
      ]
    },
    {
      "cell_type": "code",
      "metadata": {
        "id": "10kHTBjTPdIy"
      },
      "source": [
        "X_train, X_test, y_train, y_test = train_test_split(stratified_subject['text'], stratified_subject['subject'], test_size=.2)"
      ],
      "execution_count": 35,
      "outputs": []
    },
    {
      "cell_type": "code",
      "metadata": {
        "colab": {
          "base_uri": "https://localhost:8080/"
        },
        "id": "7YQI9q4aPsVB",
        "outputId": "d06a766a-71d8-4b6d-cf3d-c145be00f4bf"
      },
      "source": [
        "vectorizer = TfidfVectorizer(stop_words='english')\n",
        "logreg = LogisticRegression(max_iter=1000)\n",
        "\n",
        "p = make_pipeline(vectorizer, logreg)\n",
        "\n",
        "p.fit(X_train, y_train)\n",
        "y_pred = p.predict(X_test)\n",
        "\n",
        "print(classification_report(y_test, y_pred))"
      ],
      "execution_count": 37,
      "outputs": [
        {
          "output_type": "stream",
          "text": [
            "                         precision    recall  f1-score   support\n",
            "\n",
            "        armed conflicts       0.86      0.79      0.82       171\n",
            "        art and culture       0.73      0.75      0.74       144\n",
            "               business       0.78      0.76      0.77       152\n",
            "              disasters       0.86      0.86      0.86       166\n",
            "international relations       0.72      0.79      0.76       159\n",
            "                    law       0.71      0.71      0.71       161\n",
            "               politics       0.76      0.76      0.76       156\n",
            "                science       0.85      0.84      0.84       165\n",
            "                 sports       0.92      0.94      0.93       166\n",
            "\n",
            "               accuracy                           0.80      1440\n",
            "              macro avg       0.80      0.80      0.80      1440\n",
            "           weighted avg       0.80      0.80      0.80      1440\n",
            "\n"
          ],
          "name": "stdout"
        }
      ]
    },
    {
      "cell_type": "code",
      "metadata": {
        "colab": {
          "base_uri": "https://localhost:8080/",
          "height": 148
        },
        "id": "dLfrEuxvUR8I",
        "outputId": "706eebee-ad6d-459c-ca26-06750a27df8e"
      },
      "source": [
        "y_pred = p.predict(X_test)\n",
        "classification_report(y_test, y_pred)"
      ],
      "execution_count": 38,
      "outputs": [
        {
          "output_type": "execute_result",
          "data": {
            "application/vnd.google.colaboratory.intrinsic+json": {
              "type": "string"
            },
            "text/plain": [
              "'                         precision    recall  f1-score   support\\n\\n        armed conflicts       0.86      0.79      0.82       171\\n        art and culture       0.73      0.75      0.74       144\\n               business       0.78      0.76      0.77       152\\n              disasters       0.86      0.86      0.86       166\\ninternational relations       0.72      0.79      0.76       159\\n                    law       0.71      0.71      0.71       161\\n               politics       0.76      0.76      0.76       156\\n                science       0.85      0.84      0.84       165\\n                 sports       0.92      0.94      0.93       166\\n\\n               accuracy                           0.80      1440\\n              macro avg       0.80      0.80      0.80      1440\\n           weighted avg       0.80      0.80      0.80      1440\\n'"
            ]
          },
          "metadata": {
            "tags": []
          },
          "execution_count": 38
        }
      ]
    },
    {
      "cell_type": "code",
      "metadata": {
        "colab": {
          "base_uri": "https://localhost:8080/",
          "height": 331
        },
        "id": "Dc2CVUzNJcKX",
        "outputId": "82a470d0-34e4-42be-d0d3-45de05573a99"
      },
      "source": [
        "pd.DataFrame(confusion_matrix(y_test, y_pred), index=list(top_subjects), columns=list(top_subjects))"
      ],
      "execution_count": 39,
      "outputs": [
        {
          "output_type": "execute_result",
          "data": {
            "text/html": [
              "<div>\n",
              "<style scoped>\n",
              "    .dataframe tbody tr th:only-of-type {\n",
              "        vertical-align: middle;\n",
              "    }\n",
              "\n",
              "    .dataframe tbody tr th {\n",
              "        vertical-align: top;\n",
              "    }\n",
              "\n",
              "    .dataframe thead th {\n",
              "        text-align: right;\n",
              "    }\n",
              "</style>\n",
              "<table border=\"1\" class=\"dataframe\">\n",
              "  <thead>\n",
              "    <tr style=\"text-align: right;\">\n",
              "      <th></th>\n",
              "      <th>armed conflicts</th>\n",
              "      <th>politics</th>\n",
              "      <th>disasters</th>\n",
              "      <th>international relations</th>\n",
              "      <th>law</th>\n",
              "      <th>sports</th>\n",
              "      <th>business</th>\n",
              "      <th>art and culture</th>\n",
              "      <th>science</th>\n",
              "    </tr>\n",
              "  </thead>\n",
              "  <tbody>\n",
              "    <tr>\n",
              "      <th>armed conflicts</th>\n",
              "      <td>135</td>\n",
              "      <td>5</td>\n",
              "      <td>2</td>\n",
              "      <td>4</td>\n",
              "      <td>12</td>\n",
              "      <td>8</td>\n",
              "      <td>5</td>\n",
              "      <td>0</td>\n",
              "      <td>0</td>\n",
              "    </tr>\n",
              "    <tr>\n",
              "      <th>politics</th>\n",
              "      <td>0</td>\n",
              "      <td>108</td>\n",
              "      <td>3</td>\n",
              "      <td>3</td>\n",
              "      <td>4</td>\n",
              "      <td>7</td>\n",
              "      <td>5</td>\n",
              "      <td>8</td>\n",
              "      <td>6</td>\n",
              "    </tr>\n",
              "    <tr>\n",
              "      <th>disasters</th>\n",
              "      <td>1</td>\n",
              "      <td>5</td>\n",
              "      <td>115</td>\n",
              "      <td>3</td>\n",
              "      <td>10</td>\n",
              "      <td>4</td>\n",
              "      <td>9</td>\n",
              "      <td>5</td>\n",
              "      <td>0</td>\n",
              "    </tr>\n",
              "    <tr>\n",
              "      <th>international relations</th>\n",
              "      <td>2</td>\n",
              "      <td>1</td>\n",
              "      <td>5</td>\n",
              "      <td>142</td>\n",
              "      <td>3</td>\n",
              "      <td>1</td>\n",
              "      <td>2</td>\n",
              "      <td>8</td>\n",
              "      <td>2</td>\n",
              "    </tr>\n",
              "    <tr>\n",
              "      <th>law</th>\n",
              "      <td>7</td>\n",
              "      <td>2</td>\n",
              "      <td>6</td>\n",
              "      <td>2</td>\n",
              "      <td>126</td>\n",
              "      <td>10</td>\n",
              "      <td>5</td>\n",
              "      <td>1</td>\n",
              "      <td>0</td>\n",
              "    </tr>\n",
              "    <tr>\n",
              "      <th>sports</th>\n",
              "      <td>4</td>\n",
              "      <td>13</td>\n",
              "      <td>3</td>\n",
              "      <td>4</td>\n",
              "      <td>8</td>\n",
              "      <td>115</td>\n",
              "      <td>10</td>\n",
              "      <td>1</td>\n",
              "      <td>3</td>\n",
              "    </tr>\n",
              "    <tr>\n",
              "      <th>business</th>\n",
              "      <td>6</td>\n",
              "      <td>2</td>\n",
              "      <td>5</td>\n",
              "      <td>3</td>\n",
              "      <td>8</td>\n",
              "      <td>12</td>\n",
              "      <td>118</td>\n",
              "      <td>1</td>\n",
              "      <td>1</td>\n",
              "    </tr>\n",
              "    <tr>\n",
              "      <th>art and culture</th>\n",
              "      <td>1</td>\n",
              "      <td>8</td>\n",
              "      <td>7</td>\n",
              "      <td>4</td>\n",
              "      <td>3</td>\n",
              "      <td>2</td>\n",
              "      <td>1</td>\n",
              "      <td>138</td>\n",
              "      <td>1</td>\n",
              "    </tr>\n",
              "    <tr>\n",
              "      <th>science</th>\n",
              "      <td>1</td>\n",
              "      <td>4</td>\n",
              "      <td>1</td>\n",
              "      <td>1</td>\n",
              "      <td>0</td>\n",
              "      <td>2</td>\n",
              "      <td>1</td>\n",
              "      <td>0</td>\n",
              "      <td>156</td>\n",
              "    </tr>\n",
              "  </tbody>\n",
              "</table>\n",
              "</div>"
            ],
            "text/plain": [
              "                         armed conflicts  politics  ...  art and culture  science\n",
              "armed conflicts                      135         5  ...                0        0\n",
              "politics                               0       108  ...                8        6\n",
              "disasters                              1         5  ...                5        0\n",
              "international relations                2         1  ...                8        2\n",
              "law                                    7         2  ...                1        0\n",
              "sports                                 4        13  ...                1        3\n",
              "business                               6         2  ...                1        1\n",
              "art and culture                        1         8  ...              138        1\n",
              "science                                1         4  ...                0      156\n",
              "\n",
              "[9 rows x 9 columns]"
            ]
          },
          "metadata": {
            "tags": []
          },
          "execution_count": 39
        }
      ]
    },
    {
      "cell_type": "code",
      "metadata": {
        "colab": {
          "base_uri": "https://localhost:8080/",
          "height": 284
        },
        "id": "6FsQnfW3I-wv",
        "outputId": "6fa278e6-2759-48dc-cd4d-7bb24525c9d1"
      },
      "source": [
        "sns.heatmap(confusion_matrix(y_test, y_pred), annot=True)"
      ],
      "execution_count": 40,
      "outputs": [
        {
          "output_type": "execute_result",
          "data": {
            "text/plain": [
              "<matplotlib.axes._subplots.AxesSubplot at 0x7f9f039f2eb8>"
            ]
          },
          "metadata": {
            "tags": []
          },
          "execution_count": 40
        },
        {
          "output_type": "display_data",
          "data": {
            "image/png": "[encoded data removed]",
            "text/plain": [
              "<Figure size 432x288 with 2 Axes>"
            ]
          },
          "metadata": {
            "tags": [],
            "needs_background": "light"
          }
        }
      ]
    },
    {
      "cell_type": "code",
      "metadata": {
        "colab": {
          "base_uri": "https://localhost:8080/"
        },
        "id": "TInLTt8OP_ir",
        "outputId": "562874cc-54ee-49da-81d1-d5442758fd0b"
      },
      "source": [
        "p.predict(['tesla produced 1000 electric vehicles and introduced a car at $35000'])"
      ],
      "execution_count": 41,
      "outputs": [
        {
          "output_type": "execute_result",
          "data": {
            "text/plain": [
              "array(['business'], dtype=object)"
            ]
          },
          "metadata": {
            "tags": []
          },
          "execution_count": 41
        }
      ]
    },
    {
      "cell_type": "code",
      "metadata": {
        "id": "KUb8AMBEQRLx"
      },
      "source": [
        "probs = p.predict_proba(['tesla produced 1000 electric vehicles and introduced a car at $35000'])"
      ],
      "execution_count": 42,
      "outputs": []
    },
    {
      "cell_type": "code",
      "metadata": {
        "colab": {
          "base_uri": "https://localhost:8080/"
        },
        "id": "Gl-QqzQzQWsr",
        "outputId": "f8eea72b-60e7-4c91-f586-6e451c6dbe6a"
      },
      "source": [
        "pd.Series(probs[0], sorted(top_subjects))"
      ],
      "execution_count": 43,
      "outputs": [
        {
          "output_type": "execute_result",
          "data": {
            "text/plain": [
              "armed conflicts            0.099305\n",
              "art and culture            0.103231\n",
              "business                   0.204733\n",
              "disasters                  0.109225\n",
              "international relations    0.071796\n",
              "law                        0.123293\n",
              "politics                   0.065604\n",
              "science                    0.137156\n",
              "sports                     0.085658\n",
              "dtype: float64"
            ]
          },
          "metadata": {
            "tags": []
          },
          "execution_count": 43
        }
      ]
    }
  ]
}