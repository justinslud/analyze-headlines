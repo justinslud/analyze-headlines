{
  "nbformat": 4,
  "nbformat_minor": 0,
  "metadata": {
    "colab": {
      "name": "explore_headlines.ipynb",
      "provenance": [],
      "collapsed_sections": []
    },
    "kernelspec": {
      "name": "python3",
      "display_name": "Python 3"
    }
  },
  "cells": [
    {
      "cell_type": "markdown",
      "metadata": {
        "id": "ByOvWIfmzzaN"
      },
      "source": [
        "I have my scraped data from the Wikipedia Current News portal and now want to clean it and do some exploratory data analysis on it.\n",
        "\n",
        "# Outline\n",
        "\n",
        "- cleaning\n",
        "- exploratory data analysis"
      ]
    },
    {
      "cell_type": "code",
      "metadata": {
        "id": "NspX3R6SP8-z",
        "colab": {
          "base_uri": "https://localhost:8080/"
        },
        "outputId": "45398b19-21df-4ea6-8b7a-7119aba14591"
      },
      "source": [
        "! pip install cleantext\n",
        "from cleantext import clean"
      ],
      "execution_count": null,
      "outputs": [
        {
          "output_type": "stream",
          "text": [
            "Collecting cleantext\n",
            "  Downloading https://files.pythonhosted.org/packages/49/48/897230ef3a3544e5fab107b2e999729ea46091b6eabdcb95c3e5760dbd65/cleantext-1.1.3-py3-none-any.whl\n",
            "Requirement already satisfied: nltk in /usr/local/lib/python3.6/dist-packages (from cleantext) (3.2.5)\n",
            "Requirement already satisfied: six in /usr/local/lib/python3.6/dist-packages (from nltk->cleantext) (1.15.0)\n",
            "Installing collected packages: cleantext\n",
            "Successfully installed cleantext-1.1.3\n"
          ],
          "name": "stdout"
        }
      ]
    },
    {
      "cell_type": "code",
      "metadata": {
        "id": "XsvTN-n9Xbna"
      },
      "source": [
        "import os\n",
        "import pandas as pd\n",
        "import numpy as np\n",
        "import matplotlib.pyplot as plt\n",
        "%matplotlib inline\n",
        "import seaborn as sns\n",
        "import nltk\n",
        "import re"
      ],
      "execution_count": null,
      "outputs": []
    },
    {
      "cell_type": "markdown",
      "metadata": {
        "id": "eLH1wear0Jue"
      },
      "source": [
        "I scraped the webpages in batches, so I have several csv files which need to be combined"
      ]
    },
    {
      "cell_type": "code",
      "metadata": {
        "id": "LanAvfGIOXMK"
      },
      "source": [
        "def combine_files():\n",
        "    dfs = []\n",
        "    for file in os.listdir():\n",
        "        if file.endswith('csv'):\n",
        "            dfs.append(pd.read_csv(file).drop_duplicates())\n",
        "\n",
        "    return pd.concat(dfs)"
      ],
      "execution_count": null,
      "outputs": []
    },
    {
      "cell_type": "code",
      "metadata": {
        "id": "dDs3TgE9O4Jc",
        "colab": {
          "base_uri": "https://localhost:8080/",
          "height": 206
        },
        "outputId": "c3a17e8e-e209-4b1a-8972-607f991ca727"
      },
      "source": [
        "headlines = combine_files()\n",
        "headlines.head()"
      ],
      "execution_count": null,
      "outputs": [
        {
          "output_type": "execute_result",
          "data": {
            "text/html": [
              "<div>\n",
              "<style scoped>\n",
              "    .dataframe tbody tr th:only-of-type {\n",
              "        vertical-align: middle;\n",
              "    }\n",
              "\n",
              "    .dataframe tbody tr th {\n",
              "        vertical-align: top;\n",
              "    }\n",
              "\n",
              "    .dataframe thead th {\n",
              "        text-align: right;\n",
              "    }\n",
              "</style>\n",
              "<table border=\"1\" class=\"dataframe\">\n",
              "  <thead>\n",
              "    <tr style=\"text-align: right;\">\n",
              "      <th></th>\n",
              "      <th>day</th>\n",
              "      <th>month</th>\n",
              "      <th>year</th>\n",
              "      <th>subject</th>\n",
              "      <th>event</th>\n",
              "      <th>text</th>\n",
              "    </tr>\n",
              "  </thead>\n",
              "  <tbody>\n",
              "    <tr>\n",
              "      <th>0</th>\n",
              "      <td>1</td>\n",
              "      <td>January</td>\n",
              "      <td>2003</td>\n",
              "      <td>NaN</td>\n",
              "      <td>NaN</td>\n",
              "      <td>Luíz Inácio Lula da SilvaLuíz Inácio Lula da ...</td>\n",
              "    </tr>\n",
              "    <tr>\n",
              "      <th>1</th>\n",
              "      <td>1</td>\n",
              "      <td>January</td>\n",
              "      <td>2003</td>\n",
              "      <td>NaN</td>\n",
              "      <td>NaN</td>\n",
              "      <td>The Turkish-registered tanker Vicky, with 70,0...</td>\n",
              "    </tr>\n",
              "    <tr>\n",
              "      <th>2</th>\n",
              "      <td>1</td>\n",
              "      <td>January</td>\n",
              "      <td>2003</td>\n",
              "      <td>NaN</td>\n",
              "      <td>NaN</td>\n",
              "      <td>A Royal Australian Air Force C-130 Hercules ov...</td>\n",
              "    </tr>\n",
              "    <tr>\n",
              "      <th>3</th>\n",
              "      <td>2</td>\n",
              "      <td>January</td>\n",
              "      <td>2003</td>\n",
              "      <td>NaN</td>\n",
              "      <td>NaN</td>\n",
              "      <td>The first 49 of a promised 1,264 West African ...</td>\n",
              "    </tr>\n",
              "    <tr>\n",
              "      <th>4</th>\n",
              "      <td>2</td>\n",
              "      <td>January</td>\n",
              "      <td>2003</td>\n",
              "      <td>NaN</td>\n",
              "      <td>NaN</td>\n",
              "      <td>French Foreign Minister Dominique de Villepin ...</td>\n",
              "    </tr>\n",
              "  </tbody>\n",
              "</table>\n",
              "</div>"
            ],
            "text/plain": [
              "   day    month  ...  event                                               text\n",
              "0    1  January  ...    NaN   Luíz Inácio Lula da SilvaLuíz Inácio Lula da ...\n",
              "1    1  January  ...    NaN  The Turkish-registered tanker Vicky, with 70,0...\n",
              "2    1  January  ...    NaN  A Royal Australian Air Force C-130 Hercules ov...\n",
              "3    2  January  ...    NaN  The first 49 of a promised 1,264 West African ...\n",
              "4    2  January  ...    NaN  French Foreign Minister Dominique de Villepin ...\n",
              "\n",
              "[5 rows x 6 columns]"
            ]
          },
          "metadata": {
            "tags": []
          },
          "execution_count": 67
        }
      ]
    },
    {
      "cell_type": "code",
      "metadata": {
        "id": "ILC2vnMhGuvT"
      },
      "source": [
        "# headlines.to_csv('headlines.csv', index=False)"
      ],
      "execution_count": null,
      "outputs": []
    },
    {
      "cell_type": "code",
      "metadata": {
        "id": "WBxYLHWRQb1h"
      },
      "source": [
        "# profile = ProfileReport(headlines, title='headlines')\n",
        "# # profile.to_widgets()"
      ],
      "execution_count": null,
      "outputs": []
    },
    {
      "cell_type": "code",
      "metadata": {
        "id": "oc5Rhw76XgZE"
      },
      "source": [
        "# headlines = pd.read_csv('2015and2016.csv')\n",
        "# headlines.head()"
      ],
      "execution_count": null,
      "outputs": []
    },
    {
      "cell_type": "markdown",
      "metadata": {
        "id": "_4tjkhLiu7jh"
      },
      "source": [
        "## Cleaning"
      ]
    },
    {
      "cell_type": "code",
      "metadata": {
        "id": "Cglmz4sdX1l_",
        "colab": {
          "base_uri": "https://localhost:8080/"
        },
        "outputId": "91e74a42-c182-461f-9109-4bd05ed9ea74"
      },
      "source": [
        "headlines.info()"
      ],
      "execution_count": null,
      "outputs": [
        {
          "output_type": "stream",
          "text": [
            "<class 'pandas.core.frame.DataFrame'>\n",
            "Int64Index: 57406 entries, 0 to 925\n",
            "Data columns (total 6 columns):\n",
            " #   Column   Non-Null Count  Dtype \n",
            "---  ------   --------------  ----- \n",
            " 0   day      57406 non-null  int64 \n",
            " 1   month    57406 non-null  object\n",
            " 2   year     57406 non-null  int64 \n",
            " 3   subject  28018 non-null  object\n",
            " 4   event    12976 non-null  object\n",
            " 5   text     57404 non-null  object\n",
            "dtypes: int64(2), object(4)\n",
            "memory usage: 3.1+ MB\n"
          ],
          "name": "stdout"
        }
      ]
    },
    {
      "cell_type": "markdown",
      "metadata": {
        "id": "M-wjnXkL0V-i"
      },
      "source": [
        "Every row has a day, month, and year. Almost every row has text. And the subject and event columns are only sometimes present."
      ]
    },
    {
      "cell_type": "code",
      "metadata": {
        "id": "p0jIeIU_qf7c",
        "colab": {
          "base_uri": "https://localhost:8080/"
        },
        "outputId": "e8723c1b-5564-4e20-c4f7-0ab4dc5320a2"
      },
      "source": [
        "headlines['subject'].nunique()"
      ],
      "execution_count": null,
      "outputs": [
        {
          "output_type": "execute_result",
          "data": {
            "text/plain": [
              "134"
            ]
          },
          "metadata": {
            "tags": []
          },
          "execution_count": 68
        }
      ]
    },
    {
      "cell_type": "code",
      "metadata": {
        "id": "AliT-q4PdPMu",
        "colab": {
          "base_uri": "https://localhost:8080/"
        },
        "outputId": "86695cfc-a2d4-489c-e84a-ac7bfa695fb8"
      },
      "source": [
        "def lower(x):\n",
        "    try:\n",
        "        return x.lower()\n",
        "    except:\n",
        "        return x\n",
        "\n",
        "headlines['subject'] = headlines['subject'].apply(lower)\n",
        "headlines['subject'].nunique()"
      ],
      "execution_count": null,
      "outputs": [
        {
          "output_type": "execute_result",
          "data": {
            "text/plain": [
              "123"
            ]
          },
          "metadata": {
            "tags": []
          },
          "execution_count": 69
        }
      ]
    },
    {
      "cell_type": "code",
      "metadata": {
        "id": "7NzFIpEtx14I",
        "colab": {
          "base_uri": "https://localhost:8080/"
        },
        "outputId": "b0671f3f-45db-49fa-80ed-278314d2282b"
      },
      "source": [
        "headlines['event'].nunique()"
      ],
      "execution_count": null,
      "outputs": [
        {
          "output_type": "execute_result",
          "data": {
            "text/plain": [
              "3402"
            ]
          },
          "metadata": {
            "tags": []
          },
          "execution_count": 132
        }
      ]
    },
    {
      "cell_type": "code",
      "metadata": {
        "id": "KM0IrfRjx5lg",
        "colab": {
          "base_uri": "https://localhost:8080/"
        },
        "outputId": "8788165b-4fc0-44f1-f42b-c71368d02306"
      },
      "source": [
        "headlines['event'] = headlines['event'].apply(lower)\n",
        "headlines['event'].nunique()"
      ],
      "execution_count": null,
      "outputs": [
        {
          "output_type": "execute_result",
          "data": {
            "text/plain": [
              "3369"
            ]
          },
          "metadata": {
            "tags": []
          },
          "execution_count": 133
        }
      ]
    },
    {
      "cell_type": "code",
      "metadata": {
        "id": "RF6svHyZmgUJ"
      },
      "source": [
        "subject_map = {\n",
        "    'armed': 'armed conflicts',\n",
        "    'business': 'business',\n",
        "    'art': 'art and culture',\n",
        "    'disaster': 'disasters',\n",
        "    'health': 'health',\n",
        "    'law': 'law',\n",
        "    'media': 'media',\n",
        "    'politic': 'politics',\n",
        "    'religio': 'religion',\n",
        "    'science': 'science',\n",
        "    'sport': 'sports'\n",
        "}"
      ],
      "execution_count": null,
      "outputs": []
    },
    {
      "cell_type": "code",
      "metadata": {
        "id": "wBWNjR1inkTm"
      },
      "source": [
        "def map_subjects(x):\n",
        "    if x == np.nan or x == '' or x == 'nan' or type(x) == float:\n",
        "        return np.nan\n",
        "\n",
        "    for key, value in subject_map.items():\n",
        "        if re.match(re.compile(key), x):\n",
        "            return value\n",
        "    return x"
      ],
      "execution_count": null,
      "outputs": []
    },
    {
      "cell_type": "code",
      "metadata": {
        "id": "9x4AhNz_qptZ",
        "colab": {
          "base_uri": "https://localhost:8080/"
        },
        "outputId": "68955df8-1c1c-457d-e85c-c03c85a7739d"
      },
      "source": [
        "headlines['subject'] = headlines['subject'].map(map_subjects)\n",
        "headlines['subject'].nunique()"
      ],
      "execution_count": null,
      "outputs": [
        {
          "output_type": "execute_result",
          "data": {
            "text/plain": [
              "72"
            ]
          },
          "metadata": {
            "tags": []
          },
          "execution_count": 87
        }
      ]
    },
    {
      "cell_type": "code",
      "metadata": {
        "id": "H7AiIzpjSojN",
        "colab": {
          "base_uri": "https://localhost:8080/",
          "height": 465
        },
        "outputId": "26ff97f8-feeb-4f89-8824-b95457eefbf7"
      },
      "source": [
        "f, ax = plt.subplots(figsize=(9, 6))\n",
        "subject_counts = headlines['subject'].value_counts().head(20)\n",
        "ax.bar(subject_counts.index, subject_counts.values, color='k')\n",
        "plt.xticks(subject_counts.index, rotation=45)\n",
        "plt.title('Headlines by Subject')\n",
        "plt.show()"
      ],
      "execution_count": null,
      "outputs": [
        {
          "output_type": "display_data",
          "data": {
            "image/png": "[encoded data removed]",
            "text/plain": [
              "<Figure size 648x432 with 1 Axes>"
            ]
          },
          "metadata": {
            "tags": [],
            "needs_background": "light"
          }
        }
      ]
    },
    {
      "cell_type": "code",
      "metadata": {
        "id": "YrvTM-wCJVsT",
        "colab": {
          "base_uri": "https://localhost:8080/",
          "height": 405
        },
        "outputId": "0f1d5e57-3c05-4911-8dd6-ab412597fd6d"
      },
      "source": [
        "f, ax = plt.subplots(figsize=(9, 6))\n",
        "year_counts = headlines['year'].value_counts().sort_index()\n",
        "ax.bar(year_counts.index, year_counts.values, color='k')\n",
        "plt.xticks(year_counts.index, rotation=45)\n",
        "plt.title('Number of Headlines per Year')\n",
        "plt.show()"
      ],
      "execution_count": null,
      "outputs": [
        {
          "output_type": "display_data",
          "data": {
            "image/png": "[encoded data removed]",
            "text/plain": [
              "<Figure size 648x432 with 1 Axes>"
            ]
          },
          "metadata": {
            "tags": [],
            "needs_background": "light"
          }
        }
      ]
    },
    {
      "cell_type": "code",
      "metadata": {
        "id": "zW9uXejCJRH0",
        "colab": {
          "base_uri": "https://localhost:8080/",
          "height": 426
        },
        "outputId": "e68d656a-ff8e-4d6e-b2b9-cd413ab3e130"
      },
      "source": [
        "f, ax = plt.subplots(figsize=(9, 6))\n",
        "month_counts = headlines['month'].value_counts().sort_index()\n",
        "ax.bar(month_counts.index, month_counts.values, color='k')\n",
        "plt.xticks(month_counts.index, rotation=45)\n",
        "plt.title('Number of Headlines per Month')\n",
        "plt.show()"
      ],
      "execution_count": null,
      "outputs": [
        {
          "output_type": "display_data",
          "data": {
            "image/png": "[encoded data removed]",
            "text/plain": [
              "<Figure size 648x432 with 1 Axes>"
            ]
          },
          "metadata": {
            "tags": [],
            "needs_background": "light"
          }
        }
      ]
    },
    {
      "cell_type": "code",
      "metadata": {
        "id": "hsQULgfcPhBQ"
      },
      "source": [
        "months = ['January', 'February', 'March', 'April', 'May', 'June', 'July', 'August', 'September', 'October', 'November', 'December']"
      ],
      "execution_count": null,
      "outputs": []
    },
    {
      "cell_type": "code",
      "metadata": {
        "id": "WoSDXmC3O7Qu",
        "colab": {
          "base_uri": "https://localhost:8080/",
          "height": 802
        },
        "outputId": "ad0323c4-2979-4900-cc04-70612359c31a"
      },
      "source": [
        "headline_counts = headlines.pivot_table(index='year',columns='month', values='day', aggfunc='count')[months]\n",
        "headline_counts"
      ],
      "execution_count": null,
      "outputs": [
        {
          "output_type": "execute_result",
          "data": {
            "text/html": [
              "<div>\n",
              "<style scoped>\n",
              "    .dataframe tbody tr th:only-of-type {\n",
              "        vertical-align: middle;\n",
              "    }\n",
              "\n",
              "    .dataframe tbody tr th {\n",
              "        vertical-align: top;\n",
              "    }\n",
              "\n",
              "    .dataframe thead th {\n",
              "        text-align: right;\n",
              "    }\n",
              "</style>\n",
              "<table border=\"1\" class=\"dataframe\">\n",
              "  <thead>\n",
              "    <tr style=\"text-align: right;\">\n",
              "      <th>month</th>\n",
              "      <th>January</th>\n",
              "      <th>February</th>\n",
              "      <th>March</th>\n",
              "      <th>April</th>\n",
              "      <th>May</th>\n",
              "      <th>June</th>\n",
              "      <th>July</th>\n",
              "      <th>August</th>\n",
              "      <th>September</th>\n",
              "      <th>October</th>\n",
              "      <th>November</th>\n",
              "      <th>December</th>\n",
              "    </tr>\n",
              "    <tr>\n",
              "      <th>year</th>\n",
              "      <th></th>\n",
              "      <th></th>\n",
              "      <th></th>\n",
              "      <th></th>\n",
              "      <th></th>\n",
              "      <th></th>\n",
              "      <th></th>\n",
              "      <th></th>\n",
              "      <th></th>\n",
              "      <th></th>\n",
              "      <th></th>\n",
              "      <th></th>\n",
              "    </tr>\n",
              "  </thead>\n",
              "  <tbody>\n",
              "    <tr>\n",
              "      <th>1995</th>\n",
              "      <td>22.0</td>\n",
              "      <td>30.0</td>\n",
              "      <td>29.0</td>\n",
              "      <td>19.0</td>\n",
              "      <td>27.0</td>\n",
              "      <td>19.0</td>\n",
              "      <td>12.0</td>\n",
              "      <td>13.0</td>\n",
              "      <td>8.0</td>\n",
              "      <td>16.0</td>\n",
              "      <td>53.0</td>\n",
              "      <td>13.0</td>\n",
              "    </tr>\n",
              "    <tr>\n",
              "      <th>1996</th>\n",
              "      <td>27.0</td>\n",
              "      <td>28.0</td>\n",
              "      <td>28.0</td>\n",
              "      <td>17.0</td>\n",
              "      <td>23.0</td>\n",
              "      <td>24.0</td>\n",
              "      <td>23.0</td>\n",
              "      <td>28.0</td>\n",
              "      <td>33.0</td>\n",
              "      <td>20.0</td>\n",
              "      <td>30.0</td>\n",
              "      <td>51.0</td>\n",
              "    </tr>\n",
              "    <tr>\n",
              "      <th>1997</th>\n",
              "      <td>8.0</td>\n",
              "      <td>13.0</td>\n",
              "      <td>17.0</td>\n",
              "      <td>16.0</td>\n",
              "      <td>18.0</td>\n",
              "      <td>18.0</td>\n",
              "      <td>20.0</td>\n",
              "      <td>23.0</td>\n",
              "      <td>18.0</td>\n",
              "      <td>14.0</td>\n",
              "      <td>8.0</td>\n",
              "      <td>16.0</td>\n",
              "    </tr>\n",
              "    <tr>\n",
              "      <th>1998</th>\n",
              "      <td>17.0</td>\n",
              "      <td>7.0</td>\n",
              "      <td>10.0</td>\n",
              "      <td>7.0</td>\n",
              "      <td>11.0</td>\n",
              "      <td>9.0</td>\n",
              "      <td>9.0</td>\n",
              "      <td>9.0</td>\n",
              "      <td>12.0</td>\n",
              "      <td>6.0</td>\n",
              "      <td>31.0</td>\n",
              "      <td>16.0</td>\n",
              "    </tr>\n",
              "    <tr>\n",
              "      <th>1999</th>\n",
              "      <td>20.0</td>\n",
              "      <td>19.0</td>\n",
              "      <td>20.0</td>\n",
              "      <td>16.0</td>\n",
              "      <td>29.0</td>\n",
              "      <td>17.0</td>\n",
              "      <td>22.0</td>\n",
              "      <td>14.0</td>\n",
              "      <td>8.0</td>\n",
              "      <td>17.0</td>\n",
              "      <td>20.0</td>\n",
              "      <td>24.0</td>\n",
              "    </tr>\n",
              "    <tr>\n",
              "      <th>2000</th>\n",
              "      <td>NaN</td>\n",
              "      <td>17.0</td>\n",
              "      <td>16.0</td>\n",
              "      <td>15.0</td>\n",
              "      <td>16.0</td>\n",
              "      <td>6.0</td>\n",
              "      <td>NaN</td>\n",
              "      <td>NaN</td>\n",
              "      <td>14.0</td>\n",
              "      <td>28.0</td>\n",
              "      <td>36.0</td>\n",
              "      <td>45.0</td>\n",
              "    </tr>\n",
              "    <tr>\n",
              "      <th>2001</th>\n",
              "      <td>146.0</td>\n",
              "      <td>14.0</td>\n",
              "      <td>9.0</td>\n",
              "      <td>8.0</td>\n",
              "      <td>4.0</td>\n",
              "      <td>8.0</td>\n",
              "      <td>21.0</td>\n",
              "      <td>8.0</td>\n",
              "      <td>43.0</td>\n",
              "      <td>20.0</td>\n",
              "      <td>16.0</td>\n",
              "      <td>8.0</td>\n",
              "    </tr>\n",
              "    <tr>\n",
              "      <th>2002</th>\n",
              "      <td>18.0</td>\n",
              "      <td>22.0</td>\n",
              "      <td>25.0</td>\n",
              "      <td>15.0</td>\n",
              "      <td>30.0</td>\n",
              "      <td>31.0</td>\n",
              "      <td>44.0</td>\n",
              "      <td>45.0</td>\n",
              "      <td>60.0</td>\n",
              "      <td>NaN</td>\n",
              "      <td>65.0</td>\n",
              "      <td>90.0</td>\n",
              "    </tr>\n",
              "    <tr>\n",
              "      <th>2003</th>\n",
              "      <td>88.0</td>\n",
              "      <td>103.0</td>\n",
              "      <td>134.0</td>\n",
              "      <td>118.0</td>\n",
              "      <td>113.0</td>\n",
              "      <td>88.0</td>\n",
              "      <td>111.0</td>\n",
              "      <td>178.0</td>\n",
              "      <td>169.0</td>\n",
              "      <td>187.0</td>\n",
              "      <td>365.0</td>\n",
              "      <td>276.0</td>\n",
              "    </tr>\n",
              "    <tr>\n",
              "      <th>2004</th>\n",
              "      <td>196.0</td>\n",
              "      <td>270.0</td>\n",
              "      <td>265.0</td>\n",
              "      <td>264.0</td>\n",
              "      <td>231.0</td>\n",
              "      <td>202.0</td>\n",
              "      <td>193.0</td>\n",
              "      <td>196.0</td>\n",
              "      <td>251.0</td>\n",
              "      <td>304.0</td>\n",
              "      <td>355.0</td>\n",
              "      <td>341.0</td>\n",
              "    </tr>\n",
              "    <tr>\n",
              "      <th>2005</th>\n",
              "      <td>347.0</td>\n",
              "      <td>308.0</td>\n",
              "      <td>335.0</td>\n",
              "      <td>390.0</td>\n",
              "      <td>354.0</td>\n",
              "      <td>362.0</td>\n",
              "      <td>403.0</td>\n",
              "      <td>303.0</td>\n",
              "      <td>294.0</td>\n",
              "      <td>268.0</td>\n",
              "      <td>246.0</td>\n",
              "      <td>241.0</td>\n",
              "    </tr>\n",
              "    <tr>\n",
              "      <th>2006</th>\n",
              "      <td>242.0</td>\n",
              "      <td>231.0</td>\n",
              "      <td>234.0</td>\n",
              "      <td>173.0</td>\n",
              "      <td>206.0</td>\n",
              "      <td>213.0</td>\n",
              "      <td>395.0</td>\n",
              "      <td>311.0</td>\n",
              "      <td>306.0</td>\n",
              "      <td>304.0</td>\n",
              "      <td>326.0</td>\n",
              "      <td>259.0</td>\n",
              "    </tr>\n",
              "    <tr>\n",
              "      <th>2007</th>\n",
              "      <td>269.0</td>\n",
              "      <td>316.0</td>\n",
              "      <td>368.0</td>\n",
              "      <td>294.0</td>\n",
              "      <td>296.0</td>\n",
              "      <td>290.0</td>\n",
              "      <td>413.0</td>\n",
              "      <td>629.0</td>\n",
              "      <td>530.0</td>\n",
              "      <td>343.0</td>\n",
              "      <td>416.0</td>\n",
              "      <td>159.0</td>\n",
              "    </tr>\n",
              "    <tr>\n",
              "      <th>2008</th>\n",
              "      <td>202.0</td>\n",
              "      <td>235.0</td>\n",
              "      <td>273.0</td>\n",
              "      <td>175.0</td>\n",
              "      <td>354.0</td>\n",
              "      <td>359.0</td>\n",
              "      <td>209.0</td>\n",
              "      <td>409.0</td>\n",
              "      <td>372.0</td>\n",
              "      <td>263.0</td>\n",
              "      <td>236.0</td>\n",
              "      <td>177.0</td>\n",
              "    </tr>\n",
              "    <tr>\n",
              "      <th>2009</th>\n",
              "      <td>256.0</td>\n",
              "      <td>396.0</td>\n",
              "      <td>268.0</td>\n",
              "      <td>242.0</td>\n",
              "      <td>282.0</td>\n",
              "      <td>436.0</td>\n",
              "      <td>413.0</td>\n",
              "      <td>407.0</td>\n",
              "      <td>505.0</td>\n",
              "      <td>444.0</td>\n",
              "      <td>456.0</td>\n",
              "      <td>410.0</td>\n",
              "    </tr>\n",
              "    <tr>\n",
              "      <th>2010</th>\n",
              "      <td>503.0</td>\n",
              "      <td>344.0</td>\n",
              "      <td>524.0</td>\n",
              "      <td>703.0</td>\n",
              "      <td>600.0</td>\n",
              "      <td>643.0</td>\n",
              "      <td>194.0</td>\n",
              "      <td>1059.0</td>\n",
              "      <td>942.0</td>\n",
              "      <td>NaN</td>\n",
              "      <td>928.0</td>\n",
              "      <td>968.0</td>\n",
              "    </tr>\n",
              "    <tr>\n",
              "      <th>2011</th>\n",
              "      <td>475.0</td>\n",
              "      <td>NaN</td>\n",
              "      <td>661.0</td>\n",
              "      <td>464.0</td>\n",
              "      <td>580.0</td>\n",
              "      <td>479.0</td>\n",
              "      <td>NaN</td>\n",
              "      <td>284.0</td>\n",
              "      <td>228.0</td>\n",
              "      <td>216.0</td>\n",
              "      <td>196.0</td>\n",
              "      <td>201.0</td>\n",
              "    </tr>\n",
              "    <tr>\n",
              "      <th>2012</th>\n",
              "      <td>205.0</td>\n",
              "      <td>NaN</td>\n",
              "      <td>NaN</td>\n",
              "      <td>286.0</td>\n",
              "      <td>270.0</td>\n",
              "      <td>387.0</td>\n",
              "      <td>304.0</td>\n",
              "      <td>NaN</td>\n",
              "      <td>347.0</td>\n",
              "      <td>215.0</td>\n",
              "      <td>270.0</td>\n",
              "      <td>331.0</td>\n",
              "    </tr>\n",
              "    <tr>\n",
              "      <th>2013</th>\n",
              "      <td>331.0</td>\n",
              "      <td>307.0</td>\n",
              "      <td>372.0</td>\n",
              "      <td>NaN</td>\n",
              "      <td>320.0</td>\n",
              "      <td>NaN</td>\n",
              "      <td>240.0</td>\n",
              "      <td>253.0</td>\n",
              "      <td>NaN</td>\n",
              "      <td>NaN</td>\n",
              "      <td>280.0</td>\n",
              "      <td>NaN</td>\n",
              "    </tr>\n",
              "    <tr>\n",
              "      <th>2014</th>\n",
              "      <td>272.0</td>\n",
              "      <td>NaN</td>\n",
              "      <td>NaN</td>\n",
              "      <td>NaN</td>\n",
              "      <td>NaN</td>\n",
              "      <td>NaN</td>\n",
              "      <td>349.0</td>\n",
              "      <td>307.0</td>\n",
              "      <td>265.0</td>\n",
              "      <td>247.0</td>\n",
              "      <td>259.0</td>\n",
              "      <td>284.0</td>\n",
              "    </tr>\n",
              "    <tr>\n",
              "      <th>2015</th>\n",
              "      <td>287.0</td>\n",
              "      <td>280.0</td>\n",
              "      <td>253.0</td>\n",
              "      <td>NaN</td>\n",
              "      <td>NaN</td>\n",
              "      <td>377.0</td>\n",
              "      <td>341.0</td>\n",
              "      <td>344.0</td>\n",
              "      <td>456.0</td>\n",
              "      <td>594.0</td>\n",
              "      <td>647.0</td>\n",
              "      <td>500.0</td>\n",
              "    </tr>\n",
              "    <tr>\n",
              "      <th>2016</th>\n",
              "      <td>444.0</td>\n",
              "      <td>519.0</td>\n",
              "      <td>580.0</td>\n",
              "      <td>679.0</td>\n",
              "      <td>519.0</td>\n",
              "      <td>485.0</td>\n",
              "      <td>479.0</td>\n",
              "      <td>351.0</td>\n",
              "      <td>398.0</td>\n",
              "      <td>385.0</td>\n",
              "      <td>462.0</td>\n",
              "      <td>446.0</td>\n",
              "    </tr>\n",
              "    <tr>\n",
              "      <th>2017</th>\n",
              "      <td>NaN</td>\n",
              "      <td>360.0</td>\n",
              "      <td>338.0</td>\n",
              "      <td>371.0</td>\n",
              "      <td>358.0</td>\n",
              "      <td>503.0</td>\n",
              "      <td>480.0</td>\n",
              "      <td>480.0</td>\n",
              "      <td>551.0</td>\n",
              "      <td>NaN</td>\n",
              "      <td>NaN</td>\n",
              "      <td>NaN</td>\n",
              "    </tr>\n",
              "  </tbody>\n",
              "</table>\n",
              "</div>"
            ],
            "text/plain": [
              "month  January  February  March  April  ...  September  October  November  December\n",
              "year                                    ...                                        \n",
              "1995      22.0      30.0   29.0   19.0  ...        8.0     16.0      53.0      13.0\n",
              "1996      27.0      28.0   28.0   17.0  ...       33.0     20.0      30.0      51.0\n",
              "1997       8.0      13.0   17.0   16.0  ...       18.0     14.0       8.0      16.0\n",
              "1998      17.0       7.0   10.0    7.0  ...       12.0      6.0      31.0      16.0\n",
              "1999      20.0      19.0   20.0   16.0  ...        8.0     17.0      20.0      24.0\n",
              "2000       NaN      17.0   16.0   15.0  ...       14.0     28.0      36.0      45.0\n",
              "2001     146.0      14.0    9.0    8.0  ...       43.0     20.0      16.0       8.0\n",
              "2002      18.0      22.0   25.0   15.0  ...       60.0      NaN      65.0      90.0\n",
              "2003      88.0     103.0  134.0  118.0  ...      169.0    187.0     365.0     276.0\n",
              "2004     196.0     270.0  265.0  264.0  ...      251.0    304.0     355.0     341.0\n",
              "2005     347.0     308.0  335.0  390.0  ...      294.0    268.0     246.0     241.0\n",
              "2006     242.0     231.0  234.0  173.0  ...      306.0    304.0     326.0     259.0\n",
              "2007     269.0     316.0  368.0  294.0  ...      530.0    343.0     416.0     159.0\n",
              "2008     202.0     235.0  273.0  175.0  ...      372.0    263.0     236.0     177.0\n",
              "2009     256.0     396.0  268.0  242.0  ...      505.0    444.0     456.0     410.0\n",
              "2010     503.0     344.0  524.0  703.0  ...      942.0      NaN     928.0     968.0\n",
              "2011     475.0       NaN  661.0  464.0  ...      228.0    216.0     196.0     201.0\n",
              "2012     205.0       NaN    NaN  286.0  ...      347.0    215.0     270.0     331.0\n",
              "2013     331.0     307.0  372.0    NaN  ...        NaN      NaN     280.0       NaN\n",
              "2014     272.0       NaN    NaN    NaN  ...      265.0    247.0     259.0     284.0\n",
              "2015     287.0     280.0  253.0    NaN  ...      456.0    594.0     647.0     500.0\n",
              "2016     444.0     519.0  580.0  679.0  ...      398.0    385.0     462.0     446.0\n",
              "2017       NaN     360.0  338.0  371.0  ...      551.0      NaN       NaN       NaN\n",
              "\n",
              "[23 rows x 12 columns]"
            ]
          },
          "metadata": {
            "tags": []
          },
          "execution_count": 93
        }
      ]
    },
    {
      "cell_type": "code",
      "metadata": {
        "id": "IqHI2L3RMzBO",
        "colab": {
          "base_uri": "https://localhost:8080/",
          "height": 440
        },
        "outputId": "d023fa33-5adc-48f7-e248-7c0b553c41bc"
      },
      "source": [
        "f, ax = plt.subplots(figsize=(9, 6))\n",
        "sns.heatmap(headline_counts)\n",
        "plt.title('Headlines by Year and Month')\n",
        "plt.xticks(rotation=45)\n",
        "plt.show()"
      ],
      "execution_count": null,
      "outputs": [
        {
          "output_type": "display_data",
          "data": {
            "image/png": "[encoded data removed]",
            "text/plain": [
              "<Figure size 648x432 with 2 Axes>"
            ]
          },
          "metadata": {
            "tags": [],
            "needs_background": "light"
          }
        }
      ]
    },
    {
      "cell_type": "markdown",
      "metadata": {
        "id": "iieG8JGFsUN1"
      },
      "source": [
        "Now we can see what months and years the data is lacking. The 1990's have very few headlines ... However, the white rectangles in 2014 for instance mean that I could not scrape the current events for that month. The editors likely used a different HTML template than the 3 or so I accounted for."
      ]
    },
    {
      "cell_type": "code",
      "metadata": {
        "id": "n4S7Aq3EYKW1",
        "colab": {
          "base_uri": "https://localhost:8080/"
        },
        "outputId": "3593286b-14d2-49bd-d9af-b6c78d46479b"
      },
      "source": [
        "headlines.text[:5].values"
      ],
      "execution_count": null,
      "outputs": [
        {
          "output_type": "execute_result",
          "data": {
            "text/plain": [
              "array(['The death toll of the suicide bombing in Ibb, Yemen, that occurred on December 31 rises to 49 with the injury count rising to 70. (AFP via Business Standard)',\n",
              "       'Terrorism in Yemen\\nThe death toll of the suicide bombing in Ibb, Yemen, that occurred on December 31 rises to 49 with the injury count rising to 70. (AFP via Business Standard)',\n",
              "       'Lithuania adopts the euro as its official currency, becoming the 19th member of the Eurozone. (CNN)',\n",
              "       'The Palestine Authority signs a treaty to join and participate in the International Criminal Court. (Wall Street Journal)',\n",
              "       'Vietnam’s new marriage law goes into effect, abolishing regulations that “prohibit marriage between people of the same sex.” (Bloomberg)'],\n",
              "      dtype=object)"
            ]
          },
          "metadata": {
            "tags": []
          },
          "execution_count": 11
        }
      ]
    },
    {
      "cell_type": "markdown",
      "metadata": {
        "id": "KUhnvX-es7Gi"
      },
      "source": [
        "Most headlines have some media reference at the end, which is not relevant for text purposes, but we extract them searching for parenthesis using regular expressions and keep them to use later."
      ]
    },
    {
      "cell_type": "markdown",
      "metadata": {
        "id": "tn9LjjKwtTbQ"
      },
      "source": [
        "First, we must remove the rows with an empty text column."
      ]
    },
    {
      "cell_type": "code",
      "metadata": {
        "id": "WhIAGrIUT34S"
      },
      "source": [
        "headlines = headlines.dropna(axis=0, subset=['text'])"
      ],
      "execution_count": null,
      "outputs": []
    },
    {
      "cell_type": "code",
      "metadata": {
        "id": "xTeTCnpnYbm6"
      },
      "source": [
        "media_pattern = re.compile(r' \\(.{0,100}\\)\\.?$')\n",
        "\n",
        "def extract_media(text):\n",
        "    matches = re.search(media_pattern, text)\n",
        "    if matches:\n",
        "        return matches.group(0).strip('()')\n",
        "\n",
        "def remove_media(text):\n",
        "    return re.sub(media_pattern, '', text)"
      ],
      "execution_count": null,
      "outputs": []
    },
    {
      "cell_type": "code",
      "metadata": {
        "id": "AMMvnfWxaiCL"
      },
      "source": [
        "headlines['media'] = headlines['text'].apply(extract_media)\n",
        "headlines['text'] = headlines['text'].apply(remove_media)"
      ],
      "execution_count": null,
      "outputs": []
    },
    {
      "cell_type": "code",
      "metadata": {
        "id": "u4rOqr--cgec",
        "colab": {
          "base_uri": "https://localhost:8080/"
        },
        "outputId": "de6b8a6c-dc42-4786-9dea-235192bdedb2"
      },
      "source": [
        "headlines['media'].notna().value_counts()"
      ],
      "execution_count": null,
      "outputs": [
        {
          "output_type": "execute_result",
          "data": {
            "text/plain": [
              "True     49840\n",
              "False     7564\n",
              "Name: media, dtype: int64"
            ]
          },
          "metadata": {
            "tags": []
          },
          "execution_count": 98
        }
      ]
    },
    {
      "cell_type": "code",
      "metadata": {
        "id": "1RQHWsPRVkxw",
        "colab": {
          "base_uri": "https://localhost:8080/"
        },
        "outputId": "7ed83fa0-45ca-49e3-97c7-2270f94014a1"
      },
      "source": [
        "nltk.download('stopwords')"
      ],
      "execution_count": null,
      "outputs": [
        {
          "output_type": "stream",
          "text": [
            "[nltk_data] Downloading package stopwords to /root/nltk_data...\n",
            "[nltk_data]   Unzipping corpora/stopwords.zip.\n"
          ],
          "name": "stdout"
        },
        {
          "output_type": "execute_result",
          "data": {
            "text/plain": [
              "True"
            ]
          },
          "metadata": {
            "tags": []
          },
          "execution_count": 99
        }
      ]
    },
    {
      "cell_type": "code",
      "metadata": {
        "id": "g1c5VmFPVUMf"
      },
      "source": [
        "headlines['textclean'] = headlines['text'].apply(clean)"
      ],
      "execution_count": null,
      "outputs": []
    },
    {
      "cell_type": "code",
      "metadata": {
        "id": "HEmTRFoyVsAP",
        "colab": {
          "base_uri": "https://localhost:8080/"
        },
        "outputId": "9e611273-fe4c-42c5-83a0-d790679815fa"
      },
      "source": [
        "isdiff = headlines.apply(lambda row: row['text'] != row['textclean'], axis=1)\n",
        "isdiff.sum()"
      ],
      "execution_count": null,
      "outputs": [
        {
          "output_type": "execute_result",
          "data": {
            "text/plain": [
              "982"
            ]
          },
          "metadata": {
            "tags": []
          },
          "execution_count": 102
        }
      ]
    },
    {
      "cell_type": "code",
      "metadata": {
        "id": "kbiPlZtLWBoQ",
        "colab": {
          "base_uri": "https://localhost:8080/"
        },
        "outputId": "1b45dbdc-6628-4345-ef29-ad5eea085f8c"
      },
      "source": [
        "headlines[['text', 'textclean']].head().values"
      ],
      "execution_count": null,
      "outputs": [
        {
          "output_type": "execute_result",
          "data": {
            "text/plain": [
              "array([[' Luíz Inácio Lula da SilvaLuíz Inácio Lula da Silva (\"Lula\") becomes the 37th president of the Federative Republic of Brazil for the period (2003–2007).  Da Silva was elected representing the Worker\\'s Party with 61% percent of the vote.  His inaugural speech includes vows to wipe out poverty, hunger, and corruption, but da Silva promised during the campaign to abide by an agreement with the International Monetary Fund to maintain a budget surplus of 3.75% and filled key economic posts with men considered friendly to foreign investment. Among guests at the inauguration were Venezuelan President Hugo Chávez, Cuban President Fidel Castro, and U.S. Trade Representative Robert Zoellick.',\n",
              "        'Luíz Inácio Lula da SilvaLuíz Inácio Lula da Silva (\"Lula\") becomes the 37th president of the Federative Republic of Brazil for the period (2003–2007).  Da Silva was elected representing the Worker\\'s Party with 61% percent of the vote.  His inaugural speech includes vows to wipe out poverty, hunger, and corruption, but da Silva promised during the campaign to abide by an agreement with the International Monetary Fund to maintain a budget surplus of 3.75% and filled key economic posts with men considered friendly to foreign investment. Among guests at the inauguration were Venezuelan President Hugo Chávez, Cuban President Fidel Castro, and U.S. Trade Representative Robert Zoellick.'],\n",
              "       ['The Turkish-registered tanker Vicky, with 70,000 tonnes of diesel cargo, struck the wreck of the sunken auto carrier Tricolor off the coast of Dunkirk, France.  The double-hulled tanker freed itself from the wreck with the rising tide and sailed a mile off to check for leakage.  The Vicky is the second ship to strike the wreck of the Tricolor since the carrier sank on December 14, 2002.',\n",
              "        'The Turkish-registered tanker Vicky, with 70,000 tonnes of diesel cargo, struck the wreck of the sunken auto carrier Tricolor off the coast of Dunkirk, France.  The double-hulled tanker freed itself from the wreck with the rising tide and sailed a mile off to check for leakage.  The Vicky is the second ship to strike the wreck of the Tricolor since the carrier sank on December 14, 2002.'],\n",
              "       [\"A Royal Australian Air Force C-130 Hercules overflew the islands of Tikopia and Anuta in the Solomon Islands to inspect damage by Cyclone Zoe.  The overflight carried officials of the Australian government agency AusAID.  Reports show that there was damage to crops and traditional homes, but there may be no casualties among the islands' 1,600 inhabitants.\",\n",
              "        \"A Royal Australian Air Force C-130 Hercules overflew the islands of Tikopia and Anuta in the Solomon Islands to inspect damage by Cyclone Zoe.  The overflight carried officials of the Australian government agency AusAID.  Reports show that there was damage to crops and traditional homes, but there may be no casualties among the islands' 1,600 inhabitants.\"],\n",
              "       ['The first 49 of a promised 1,264 West African peacekeepers arrive at Abidjan, Ivory Coast, to help supervise the cease-fire between the government of President Laurent Gbagbo and the main rebel group, the Patriotic Movement of the Ivory Coast. Rebellion against the Gbagbo government began September 19, 2002. The Economic Community of West African States (ECOWAS) agreed to send peacekeepers on September 29.  The EECOWAS peacekeepers will join 2,500 French forces.  Rebel groups occupy the northern half of Ivory Coast.',\n",
              "        'The first 49 of a promised 1,264 West African peacekeepers arrive at Abidjan, Ivory Coast, to help supervise the cease-fire between the government of President Laurent Gbagbo and the main rebel group, the Patriotic Movement of the Ivory Coast. Rebellion against the Gbagbo government began September 19, 2002. The Economic Community of West African States (ECOWAS) agreed to send peacekeepers on September 29.  The EECOWAS peacekeepers will join 2,500 French forces.  Rebel groups occupy the northern half of Ivory Coast.'],\n",
              "       ['French Foreign Minister Dominique de Villepin arrives in Ivory Coast to help mediate the conflict.',\n",
              "        'French Foreign Minister Dominique de Villepin arrives in Ivory Coast to help mediate the conflict.']],\n",
              "      dtype=object)"
            ]
          },
          "metadata": {
            "tags": []
          },
          "execution_count": 108
        }
      ]
    },
    {
      "cell_type": "code",
      "metadata": {
        "id": "zQvMh9DKWSoJ"
      },
      "source": [
        "headlines['text'] = headlines['textclean']\n",
        "headlines = headlines.drop(['textclean'], axis=1)"
      ],
      "execution_count": null,
      "outputs": []
    },
    {
      "cell_type": "code",
      "metadata": {
        "id": "BNq0IVuKWVLp"
      },
      "source": [
        "# headlines.to_csv('1995-2017clean.csv', index=False)"
      ],
      "execution_count": null,
      "outputs": []
    },
    {
      "cell_type": "markdown",
      "metadata": {
        "id": "I1RWWhfcvCpz"
      },
      "source": [
        "## Exploratory Data Analysis"
      ]
    },
    {
      "cell_type": "code",
      "metadata": {
        "id": "HwzpqYaicxut",
        "colab": {
          "base_uri": "https://localhost:8080/"
        },
        "outputId": "ff073d1a-5f3f-409f-8d2b-1a26b90aa894"
      },
      "source": [
        "sporting_events = headlines.loc[(headlines.subject.isin(['sport', 'sports'])) & (headlines.event.notna()), 'event']\n",
        "sporting_events.head()"
      ],
      "execution_count": null,
      "outputs": [
        {
          "output_type": "execute_result",
          "data": {
            "text/plain": [
              "12380                         2000 World Series\n",
              "25478    Togo national football team bus attack\n",
              "25479    Togo national football team bus attack\n",
              "25480    Togo national football team bus attack\n",
              "25481    Togo national football team bus attack\n",
              "Name: event, dtype: object"
            ]
          },
          "metadata": {
            "tags": []
          },
          "execution_count": 111
        }
      ]
    },
    {
      "cell_type": "code",
      "metadata": {
        "id": "yHsbWI0KeR5y"
      },
      "source": [
        "def trend_plot(keyword):\n",
        "    matches = headlines[(headlines.text.str.contains(keyword)) | (headlines.event.str.contains(keyword))].drop('day', axis=1)\n",
        "    counts = matches.groupby('year').text.count()\n",
        "    counts.plot(kind='line', color='k')\n",
        "    plt.ylim((-.5, counts.max()+.5))\n",
        "    min, max = matches['year'].min(), matches['year'].max() + 1\n",
        "    increment = 1 if max - min < 10 else 2\n",
        "    plt.xticks(range(min, max, increment), rotation=45)\n",
        "    plt.title(keyword.title() + ' Trend Plot')\n",
        "    plt.xlabel('Year')\n",
        "    plt.ylabel('Mentions')\n",
        "                                        "
      ],
      "execution_count": null,
      "outputs": []
    },
    {
      "cell_type": "code",
      "metadata": {
        "id": "18GGpM1XexLz",
        "colab": {
          "base_uri": "https://localhost:8080/"
        },
        "outputId": "29ff96a5-5b32-4fe8-c787-8f7b22c54da0"
      },
      "source": [
        "matches = headlines[(headlines.text.str.contains('Tom Brady')) | (headlines.event.str.contains('Tom Brady'))].drop('day', axis=1)\n",
        "counts = matches.groupby(['year']).text.count()\n",
        "counts.index"
      ],
      "execution_count": null,
      "outputs": [
        {
          "output_type": "execute_result",
          "data": {
            "text/plain": [
              "Int64Index([2007, 2015, 2016, 2017], dtype='int64', name='year')"
            ]
          },
          "metadata": {
            "tags": []
          },
          "execution_count": 124
        }
      ]
    },
    {
      "cell_type": "code",
      "metadata": {
        "id": "6IOnA5lqfMGY",
        "colab": {
          "base_uri": "https://localhost:8080/",
          "height": 310
        },
        "outputId": "a2af8b66-7cd2-421d-d9e1-c5e63e82fe98"
      },
      "source": [
        "trend_plot('Tom Brady')"
      ],
      "execution_count": null,
      "outputs": [
        {
          "output_type": "display_data",
          "data": {
            "image/png": "[encoded data removed]",
            "text/plain": [
              "<Figure size 432x288 with 1 Axes>"
            ]
          },
          "metadata": {
            "tags": [],
            "needs_background": "light"
          }
        }
      ]
    },
    {
      "cell_type": "code",
      "metadata": {
        "id": "Q5OuYWLifZLV"
      },
      "source": [
        "tom = headlines[headlines.text.str.contains('Tom Brady')]"
      ],
      "execution_count": null,
      "outputs": []
    },
    {
      "cell_type": "code",
      "metadata": {
        "id": "wDvG5ZqXihNi",
        "colab": {
          "base_uri": "https://localhost:8080/"
        },
        "outputId": "3c218ce5-0a37-4072-d6e2-9784c4085345"
      },
      "source": [
        "tom.media"
      ],
      "execution_count": null,
      "outputs": [
        {
          "output_type": "execute_result",
          "data": {
            "text/plain": [
              "95        (Sports Illustrated)\n",
              "292     (Sports International)\n",
              "1092          (New York Times)\n",
              "1920               (AP) (ESPN)\n",
              "1921               (AP) (ESPN)\n",
              "7530                    (ESPN)\n",
              "Name: media, dtype: object"
            ]
          },
          "metadata": {
            "tags": []
          },
          "execution_count": 101
        }
      ]
    },
    {
      "cell_type": "code",
      "metadata": {
        "id": "T7ceyp6ZwaoG",
        "colab": {
          "base_uri": "https://localhost:8080/",
          "height": 579
        },
        "outputId": "a8428dc3-b5c1-4e5d-dbb4-9f8c72400434"
      },
      "source": [
        "f, ax = plt.subplots(figsize=(9, 6))\n",
        "event_counts = headlines['event'].value_counts().head(20)\n",
        "ax.bar(event_counts.index, subject_counts.values, color='k')\n",
        "plt.xticks(event_counts.index, rotation=80)\n",
        "plt.title('Headlines by Event')\n",
        "plt.show()"
      ],
      "execution_count": null,
      "outputs": [
        {
          "output_type": "display_data",
          "data": {
            "image/png": "[encoded data removed]",
            "text/plain": [
              "<Figure size 648x432 with 1 Axes>"
            ]
          },
          "metadata": {
            "tags": [],
            "needs_background": "light"
          }
        }
      ]
    },
    {
      "cell_type": "code",
      "metadata": {
        "id": "Yy8K45yTyNsZ",
        "colab": {
          "base_uri": "https://localhost:8080/",
          "height": 310
        },
        "outputId": "fad9aba4-4e3c-4fc1-cb6a-4181b1966266"
      },
      "source": [
        "trend_plot('bombing')"
      ],
      "execution_count": null,
      "outputs": [
        {
          "output_type": "display_data",
          "data": {
            "image/png": "[encoded data removed]",
            "text/plain": [
              "<Figure size 432x288 with 1 Axes>"
            ]
          },
          "metadata": {
            "tags": [],
            "needs_background": "light"
          }
        }
      ]
    },
    {
      "cell_type": "markdown",
      "metadata": {
        "id": "izsA21c4kvbV"
      },
      "source": [
        "Now that the data is cleaned, we can move onto modelling and prediciting in the next part!"
      ]
    }
  ]
}